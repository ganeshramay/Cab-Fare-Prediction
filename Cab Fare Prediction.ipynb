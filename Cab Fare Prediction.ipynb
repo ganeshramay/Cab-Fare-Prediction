{
 "cells": [
  {
   "cell_type": "code",
   "execution_count": 1,
   "metadata": {},
   "outputs": [
    {
     "name": "stderr",
     "output_type": "stream",
     "text": [
      "Using TensorFlow backend.\n"
     ]
    }
   ],
   "source": [
    "# loading the required libraries  \n",
    "import os \n",
    "import pandas as pd \n",
    "import numpy as np \n",
    "import matplotlib.pyplot as plt \n",
    "import seaborn as sns \n",
    "import scipy.stats as stats \n",
    "from fancyimpute import KNN \n",
    "from random import randrange, uniform\n",
    "import warnings \n",
    "warnings.filterwarnings('ignore') \n",
    "import statsmodels.api as sm \n",
    "from statsmodels.formula.api import ols \n",
    "from patsy import dmatrices \n",
    "from statsmodels.stats.outliers_influence import variance_inflation_factor \n",
    "from sklearn.model_selection import train_test_split \n",
    "from sklearn.metrics import mean_squared_error \n",
    "from sklearn import metrics \n",
    "from sklearn.linear_model import LinearRegression,Ridge,Lasso \n",
    "from sklearn.model_selection import cross_val_score \n",
    "from sklearn.ensemble import RandomForestRegressor \n",
    "from sklearn.tree import DecisionTreeRegressor \n",
    "from sklearn.ensemble import GradientBoostingRegressor\n",
    "from sklearn.metrics import r2_score "
   ]
  },
  {
   "cell_type": "code",
   "execution_count": 2,
   "metadata": {},
   "outputs": [
    {
     "data": {
      "text/plain": [
       "'E:\\\\edWisor\\\\Project'"
      ]
     },
     "execution_count": 2,
     "metadata": {},
     "output_type": "execute_result"
    }
   ],
   "source": [
    "# Set working directory\n",
    "os.chdir(\"E:\\edWisor\\Project\")\n",
    "os.getcwd()"
   ]
  },
  {
   "cell_type": "code",
   "execution_count": 3,
   "metadata": {},
   "outputs": [],
   "source": [
    "# Load the data\n",
    "cab_train = pd.read_csv(\"train_cab.csv\",sep = ',',dtype={'fare_amount':np.float},na_values={'fare_amount':'430-'})\n",
    "cab_test = pd.read_csv(\"test.csv\",sep = ',')\n",
    "\n",
    "data =[cab_train,cab_test]\n",
    "for i in data:\n",
    "    i['pickup_datetime']=pd.to_datetime(i['pickup_datetime'],errors='coerce')"
   ]
  },
  {
   "cell_type": "code",
   "execution_count": 4,
   "metadata": {},
   "outputs": [
    {
     "data": {
      "text/plain": [
       "((16067, 7), (9914, 6))"
      ]
     },
     "execution_count": 4,
     "metadata": {},
     "output_type": "execute_result"
    }
   ],
   "source": [
    "# Shape\n",
    "cab_train.shape,cab_test.shape"
   ]
  },
  {
   "cell_type": "code",
   "execution_count": 5,
   "metadata": {},
   "outputs": [
    {
     "data": {
      "text/plain": [
       "(Index(['fare_amount', 'pickup_datetime', 'pickup_longitude', 'pickup_latitude',\n",
       "        'dropoff_longitude', 'dropoff_latitude', 'passenger_count'],\n",
       "       dtype='object'),\n",
       " Index(['pickup_datetime', 'pickup_longitude', 'pickup_latitude',\n",
       "        'dropoff_longitude', 'dropoff_latitude', 'passenger_count'],\n",
       "       dtype='object'))"
      ]
     },
     "execution_count": 5,
     "metadata": {},
     "output_type": "execute_result"
    }
   ],
   "source": [
    "# Column names\n",
    "cab_train.columns,cab_test.columns"
   ]
  },
  {
   "cell_type": "code",
   "execution_count": 6,
   "metadata": {},
   "outputs": [
    {
     "data": {
      "text/html": [
       "<div>\n",
       "<style scoped>\n",
       "    .dataframe tbody tr th:only-of-type {\n",
       "        vertical-align: middle;\n",
       "    }\n",
       "\n",
       "    .dataframe tbody tr th {\n",
       "        vertical-align: top;\n",
       "    }\n",
       "\n",
       "    .dataframe thead th {\n",
       "        text-align: right;\n",
       "    }\n",
       "</style>\n",
       "<table border=\"1\" class=\"dataframe\">\n",
       "  <thead>\n",
       "    <tr style=\"text-align: right;\">\n",
       "      <th></th>\n",
       "      <th>fare_amount</th>\n",
       "      <th>pickup_datetime</th>\n",
       "      <th>pickup_longitude</th>\n",
       "      <th>pickup_latitude</th>\n",
       "      <th>dropoff_longitude</th>\n",
       "      <th>dropoff_latitude</th>\n",
       "      <th>passenger_count</th>\n",
       "    </tr>\n",
       "  </thead>\n",
       "  <tbody>\n",
       "    <tr>\n",
       "      <th>0</th>\n",
       "      <td>4.5</td>\n",
       "      <td>2009-06-15 17:26:21+00:00</td>\n",
       "      <td>-73.844311</td>\n",
       "      <td>40.721319</td>\n",
       "      <td>-73.841610</td>\n",
       "      <td>40.712278</td>\n",
       "      <td>1.0</td>\n",
       "    </tr>\n",
       "    <tr>\n",
       "      <th>1</th>\n",
       "      <td>16.9</td>\n",
       "      <td>2010-01-05 16:52:16+00:00</td>\n",
       "      <td>-74.016048</td>\n",
       "      <td>40.711303</td>\n",
       "      <td>-73.979268</td>\n",
       "      <td>40.782004</td>\n",
       "      <td>1.0</td>\n",
       "    </tr>\n",
       "    <tr>\n",
       "      <th>2</th>\n",
       "      <td>5.7</td>\n",
       "      <td>2011-08-18 00:35:00+00:00</td>\n",
       "      <td>-73.982738</td>\n",
       "      <td>40.761270</td>\n",
       "      <td>-73.991242</td>\n",
       "      <td>40.750562</td>\n",
       "      <td>2.0</td>\n",
       "    </tr>\n",
       "    <tr>\n",
       "      <th>3</th>\n",
       "      <td>7.7</td>\n",
       "      <td>2012-04-21 04:30:42+00:00</td>\n",
       "      <td>-73.987130</td>\n",
       "      <td>40.733143</td>\n",
       "      <td>-73.991567</td>\n",
       "      <td>40.758092</td>\n",
       "      <td>1.0</td>\n",
       "    </tr>\n",
       "    <tr>\n",
       "      <th>4</th>\n",
       "      <td>5.3</td>\n",
       "      <td>2010-03-09 07:51:00+00:00</td>\n",
       "      <td>-73.968095</td>\n",
       "      <td>40.768008</td>\n",
       "      <td>-73.956655</td>\n",
       "      <td>40.783762</td>\n",
       "      <td>1.0</td>\n",
       "    </tr>\n",
       "  </tbody>\n",
       "</table>\n",
       "</div>"
      ],
      "text/plain": [
       "   fare_amount           pickup_datetime  pickup_longitude  pickup_latitude  \\\n",
       "0          4.5 2009-06-15 17:26:21+00:00        -73.844311        40.721319   \n",
       "1         16.9 2010-01-05 16:52:16+00:00        -74.016048        40.711303   \n",
       "2          5.7 2011-08-18 00:35:00+00:00        -73.982738        40.761270   \n",
       "3          7.7 2012-04-21 04:30:42+00:00        -73.987130        40.733143   \n",
       "4          5.3 2010-03-09 07:51:00+00:00        -73.968095        40.768008   \n",
       "\n",
       "   dropoff_longitude  dropoff_latitude  passenger_count  \n",
       "0         -73.841610         40.712278              1.0  \n",
       "1         -73.979268         40.782004              1.0  \n",
       "2         -73.991242         40.750562              2.0  \n",
       "3         -73.991567         40.758092              1.0  \n",
       "4         -73.956655         40.783762              1.0  "
      ]
     },
     "execution_count": 6,
     "metadata": {},
     "output_type": "execute_result"
    }
   ],
   "source": [
    "# First 5 Observation\n",
    "cab_train.head(5)"
   ]
  },
  {
   "cell_type": "code",
   "execution_count": 7,
   "metadata": {},
   "outputs": [
    {
     "data": {
      "text/html": [
       "<div>\n",
       "<style scoped>\n",
       "    .dataframe tbody tr th:only-of-type {\n",
       "        vertical-align: middle;\n",
       "    }\n",
       "\n",
       "    .dataframe tbody tr th {\n",
       "        vertical-align: top;\n",
       "    }\n",
       "\n",
       "    .dataframe thead th {\n",
       "        text-align: right;\n",
       "    }\n",
       "</style>\n",
       "<table border=\"1\" class=\"dataframe\">\n",
       "  <thead>\n",
       "    <tr style=\"text-align: right;\">\n",
       "      <th></th>\n",
       "      <th>pickup_datetime</th>\n",
       "      <th>pickup_longitude</th>\n",
       "      <th>pickup_latitude</th>\n",
       "      <th>dropoff_longitude</th>\n",
       "      <th>dropoff_latitude</th>\n",
       "      <th>passenger_count</th>\n",
       "    </tr>\n",
       "  </thead>\n",
       "  <tbody>\n",
       "    <tr>\n",
       "      <th>0</th>\n",
       "      <td>2015-01-27 13:08:24+00:00</td>\n",
       "      <td>-73.973320</td>\n",
       "      <td>40.763805</td>\n",
       "      <td>-73.981430</td>\n",
       "      <td>40.743835</td>\n",
       "      <td>1</td>\n",
       "    </tr>\n",
       "    <tr>\n",
       "      <th>1</th>\n",
       "      <td>2015-01-27 13:08:24+00:00</td>\n",
       "      <td>-73.986862</td>\n",
       "      <td>40.719383</td>\n",
       "      <td>-73.998886</td>\n",
       "      <td>40.739201</td>\n",
       "      <td>1</td>\n",
       "    </tr>\n",
       "    <tr>\n",
       "      <th>2</th>\n",
       "      <td>2011-10-08 11:53:44+00:00</td>\n",
       "      <td>-73.982524</td>\n",
       "      <td>40.751260</td>\n",
       "      <td>-73.979654</td>\n",
       "      <td>40.746139</td>\n",
       "      <td>1</td>\n",
       "    </tr>\n",
       "    <tr>\n",
       "      <th>3</th>\n",
       "      <td>2012-12-01 21:12:12+00:00</td>\n",
       "      <td>-73.981160</td>\n",
       "      <td>40.767807</td>\n",
       "      <td>-73.990448</td>\n",
       "      <td>40.751635</td>\n",
       "      <td>1</td>\n",
       "    </tr>\n",
       "    <tr>\n",
       "      <th>4</th>\n",
       "      <td>2012-12-01 21:12:12+00:00</td>\n",
       "      <td>-73.966046</td>\n",
       "      <td>40.789775</td>\n",
       "      <td>-73.988565</td>\n",
       "      <td>40.744427</td>\n",
       "      <td>1</td>\n",
       "    </tr>\n",
       "  </tbody>\n",
       "</table>\n",
       "</div>"
      ],
      "text/plain": [
       "            pickup_datetime  pickup_longitude  pickup_latitude  \\\n",
       "0 2015-01-27 13:08:24+00:00        -73.973320        40.763805   \n",
       "1 2015-01-27 13:08:24+00:00        -73.986862        40.719383   \n",
       "2 2011-10-08 11:53:44+00:00        -73.982524        40.751260   \n",
       "3 2012-12-01 21:12:12+00:00        -73.981160        40.767807   \n",
       "4 2012-12-01 21:12:12+00:00        -73.966046        40.789775   \n",
       "\n",
       "   dropoff_longitude  dropoff_latitude  passenger_count  \n",
       "0         -73.981430         40.743835                1  \n",
       "1         -73.998886         40.739201                1  \n",
       "2         -73.979654         40.746139                1  \n",
       "3         -73.990448         40.751635                1  \n",
       "4         -73.988565         40.744427                1  "
      ]
     },
     "execution_count": 7,
     "metadata": {},
     "output_type": "execute_result"
    }
   ],
   "source": [
    "cab_test.head(5)"
   ]
  },
  {
   "cell_type": "code",
   "execution_count": 8,
   "metadata": {},
   "outputs": [
    {
     "data": {
      "text/plain": [
       "fare_amount                      float64\n",
       "pickup_datetime      datetime64[ns, UTC]\n",
       "pickup_longitude                 float64\n",
       "pickup_latitude                  float64\n",
       "dropoff_longitude                float64\n",
       "dropoff_latitude                 float64\n",
       "passenger_count                  float64\n",
       "dtype: object"
      ]
     },
     "execution_count": 8,
     "metadata": {},
     "output_type": "execute_result"
    }
   ],
   "source": [
    "cab_train.dtypes"
   ]
  },
  {
   "cell_type": "code",
   "execution_count": 9,
   "metadata": {},
   "outputs": [
    {
     "data": {
      "text/plain": [
       "pickup_datetime      datetime64[ns, UTC]\n",
       "pickup_longitude                 float64\n",
       "pickup_latitude                  float64\n",
       "dropoff_longitude                float64\n",
       "dropoff_latitude                 float64\n",
       "passenger_count                    int64\n",
       "dtype: object"
      ]
     },
     "execution_count": 9,
     "metadata": {},
     "output_type": "execute_result"
    }
   ],
   "source": [
    "cab_test.dtypes"
   ]
  },
  {
   "cell_type": "code",
   "execution_count": 10,
   "metadata": {},
   "outputs": [
    {
     "data": {
      "text/html": [
       "<div>\n",
       "<style scoped>\n",
       "    .dataframe tbody tr th:only-of-type {\n",
       "        vertical-align: middle;\n",
       "    }\n",
       "\n",
       "    .dataframe tbody tr th {\n",
       "        vertical-align: top;\n",
       "    }\n",
       "\n",
       "    .dataframe thead th {\n",
       "        text-align: right;\n",
       "    }\n",
       "</style>\n",
       "<table border=\"1\" class=\"dataframe\">\n",
       "  <thead>\n",
       "    <tr style=\"text-align: right;\">\n",
       "      <th></th>\n",
       "      <th>fare_amount</th>\n",
       "      <th>pickup_longitude</th>\n",
       "      <th>pickup_latitude</th>\n",
       "      <th>dropoff_longitude</th>\n",
       "      <th>dropoff_latitude</th>\n",
       "      <th>passenger_count</th>\n",
       "    </tr>\n",
       "  </thead>\n",
       "  <tbody>\n",
       "    <tr>\n",
       "      <th>count</th>\n",
       "      <td>16042.000000</td>\n",
       "      <td>16067.000000</td>\n",
       "      <td>16067.000000</td>\n",
       "      <td>16067.000000</td>\n",
       "      <td>16067.000000</td>\n",
       "      <td>16012.000000</td>\n",
       "    </tr>\n",
       "    <tr>\n",
       "      <th>mean</th>\n",
       "      <td>15.015004</td>\n",
       "      <td>-72.462787</td>\n",
       "      <td>39.914725</td>\n",
       "      <td>-72.462328</td>\n",
       "      <td>39.897906</td>\n",
       "      <td>2.625070</td>\n",
       "    </tr>\n",
       "    <tr>\n",
       "      <th>std</th>\n",
       "      <td>430.460945</td>\n",
       "      <td>10.578384</td>\n",
       "      <td>6.826587</td>\n",
       "      <td>10.575062</td>\n",
       "      <td>6.187087</td>\n",
       "      <td>60.844122</td>\n",
       "    </tr>\n",
       "    <tr>\n",
       "      <th>min</th>\n",
       "      <td>-3.000000</td>\n",
       "      <td>-74.438233</td>\n",
       "      <td>-74.006893</td>\n",
       "      <td>-74.429332</td>\n",
       "      <td>-74.006377</td>\n",
       "      <td>0.000000</td>\n",
       "    </tr>\n",
       "    <tr>\n",
       "      <th>25%</th>\n",
       "      <td>6.000000</td>\n",
       "      <td>-73.992156</td>\n",
       "      <td>40.734927</td>\n",
       "      <td>-73.991182</td>\n",
       "      <td>40.734651</td>\n",
       "      <td>1.000000</td>\n",
       "    </tr>\n",
       "    <tr>\n",
       "      <th>50%</th>\n",
       "      <td>8.500000</td>\n",
       "      <td>-73.981698</td>\n",
       "      <td>40.752603</td>\n",
       "      <td>-73.980172</td>\n",
       "      <td>40.753567</td>\n",
       "      <td>1.000000</td>\n",
       "    </tr>\n",
       "    <tr>\n",
       "      <th>75%</th>\n",
       "      <td>12.500000</td>\n",
       "      <td>-73.966838</td>\n",
       "      <td>40.767381</td>\n",
       "      <td>-73.963643</td>\n",
       "      <td>40.768013</td>\n",
       "      <td>2.000000</td>\n",
       "    </tr>\n",
       "    <tr>\n",
       "      <th>max</th>\n",
       "      <td>54343.000000</td>\n",
       "      <td>40.766125</td>\n",
       "      <td>401.083332</td>\n",
       "      <td>40.802437</td>\n",
       "      <td>41.366138</td>\n",
       "      <td>5345.000000</td>\n",
       "    </tr>\n",
       "  </tbody>\n",
       "</table>\n",
       "</div>"
      ],
      "text/plain": [
       "        fare_amount  pickup_longitude  pickup_latitude  dropoff_longitude  \\\n",
       "count  16042.000000      16067.000000     16067.000000       16067.000000   \n",
       "mean      15.015004        -72.462787        39.914725         -72.462328   \n",
       "std      430.460945         10.578384         6.826587          10.575062   \n",
       "min       -3.000000        -74.438233       -74.006893         -74.429332   \n",
       "25%        6.000000        -73.992156        40.734927         -73.991182   \n",
       "50%        8.500000        -73.981698        40.752603         -73.980172   \n",
       "75%       12.500000        -73.966838        40.767381         -73.963643   \n",
       "max    54343.000000         40.766125       401.083332          40.802437   \n",
       "\n",
       "       dropoff_latitude  passenger_count  \n",
       "count      16067.000000     16012.000000  \n",
       "mean          39.897906         2.625070  \n",
       "std            6.187087        60.844122  \n",
       "min          -74.006377         0.000000  \n",
       "25%           40.734651         1.000000  \n",
       "50%           40.753567         1.000000  \n",
       "75%           40.768013         2.000000  \n",
       "max           41.366138      5345.000000  "
      ]
     },
     "execution_count": 10,
     "metadata": {},
     "output_type": "execute_result"
    }
   ],
   "source": [
    "cab_train.describe()"
   ]
  },
  {
   "cell_type": "code",
   "execution_count": 11,
   "metadata": {},
   "outputs": [
    {
     "data": {
      "text/html": [
       "<div>\n",
       "<style scoped>\n",
       "    .dataframe tbody tr th:only-of-type {\n",
       "        vertical-align: middle;\n",
       "    }\n",
       "\n",
       "    .dataframe tbody tr th {\n",
       "        vertical-align: top;\n",
       "    }\n",
       "\n",
       "    .dataframe thead th {\n",
       "        text-align: right;\n",
       "    }\n",
       "</style>\n",
       "<table border=\"1\" class=\"dataframe\">\n",
       "  <thead>\n",
       "    <tr style=\"text-align: right;\">\n",
       "      <th></th>\n",
       "      <th>pickup_longitude</th>\n",
       "      <th>pickup_latitude</th>\n",
       "      <th>dropoff_longitude</th>\n",
       "      <th>dropoff_latitude</th>\n",
       "      <th>passenger_count</th>\n",
       "    </tr>\n",
       "  </thead>\n",
       "  <tbody>\n",
       "    <tr>\n",
       "      <th>count</th>\n",
       "      <td>9914.000000</td>\n",
       "      <td>9914.000000</td>\n",
       "      <td>9914.000000</td>\n",
       "      <td>9914.000000</td>\n",
       "      <td>9914.000000</td>\n",
       "    </tr>\n",
       "    <tr>\n",
       "      <th>mean</th>\n",
       "      <td>-73.974722</td>\n",
       "      <td>40.751041</td>\n",
       "      <td>-73.973657</td>\n",
       "      <td>40.751743</td>\n",
       "      <td>1.671273</td>\n",
       "    </tr>\n",
       "    <tr>\n",
       "      <th>std</th>\n",
       "      <td>0.042774</td>\n",
       "      <td>0.033541</td>\n",
       "      <td>0.039072</td>\n",
       "      <td>0.035435</td>\n",
       "      <td>1.278747</td>\n",
       "    </tr>\n",
       "    <tr>\n",
       "      <th>min</th>\n",
       "      <td>-74.252193</td>\n",
       "      <td>40.573143</td>\n",
       "      <td>-74.263242</td>\n",
       "      <td>40.568973</td>\n",
       "      <td>1.000000</td>\n",
       "    </tr>\n",
       "    <tr>\n",
       "      <th>25%</th>\n",
       "      <td>-73.992501</td>\n",
       "      <td>40.736125</td>\n",
       "      <td>-73.991247</td>\n",
       "      <td>40.735254</td>\n",
       "      <td>1.000000</td>\n",
       "    </tr>\n",
       "    <tr>\n",
       "      <th>50%</th>\n",
       "      <td>-73.982326</td>\n",
       "      <td>40.753051</td>\n",
       "      <td>-73.980015</td>\n",
       "      <td>40.754065</td>\n",
       "      <td>1.000000</td>\n",
       "    </tr>\n",
       "    <tr>\n",
       "      <th>75%</th>\n",
       "      <td>-73.968013</td>\n",
       "      <td>40.767113</td>\n",
       "      <td>-73.964059</td>\n",
       "      <td>40.768757</td>\n",
       "      <td>2.000000</td>\n",
       "    </tr>\n",
       "    <tr>\n",
       "      <th>max</th>\n",
       "      <td>-72.986532</td>\n",
       "      <td>41.709555</td>\n",
       "      <td>-72.990963</td>\n",
       "      <td>41.696683</td>\n",
       "      <td>6.000000</td>\n",
       "    </tr>\n",
       "  </tbody>\n",
       "</table>\n",
       "</div>"
      ],
      "text/plain": [
       "       pickup_longitude  pickup_latitude  dropoff_longitude  dropoff_latitude  \\\n",
       "count       9914.000000      9914.000000        9914.000000       9914.000000   \n",
       "mean         -73.974722        40.751041         -73.973657         40.751743   \n",
       "std            0.042774         0.033541           0.039072          0.035435   \n",
       "min          -74.252193        40.573143         -74.263242         40.568973   \n",
       "25%          -73.992501        40.736125         -73.991247         40.735254   \n",
       "50%          -73.982326        40.753051         -73.980015         40.754065   \n",
       "75%          -73.968013        40.767113         -73.964059         40.768757   \n",
       "max          -72.986532        41.709555         -72.990963         41.696683   \n",
       "\n",
       "       passenger_count  \n",
       "count      9914.000000  \n",
       "mean          1.671273  \n",
       "std           1.278747  \n",
       "min           1.000000  \n",
       "25%           1.000000  \n",
       "50%           1.000000  \n",
       "75%           2.000000  \n",
       "max           6.000000  "
      ]
     },
     "execution_count": 11,
     "metadata": {},
     "output_type": "execute_result"
    }
   ],
   "source": [
    "cab_test.describe()"
   ]
  },
  {
   "cell_type": "code",
   "execution_count": 12,
   "metadata": {},
   "outputs": [],
   "source": [
    "# Exploratory data analysis\n",
    "cab_train.loc[:,'passenger_count']=cab_train.loc[:,'passenger_count'].round()"
   ]
  },
  {
   "cell_type": "code",
   "execution_count": 13,
   "metadata": {},
   "outputs": [
    {
     "data": {
      "text/plain": [
       "array([1.000e+00, 2.000e+00, 3.000e+00,       nan, 6.000e+00, 5.000e+00,\n",
       "       4.000e+00, 2.360e+02, 4.560e+02, 5.334e+03, 0.000e+00, 5.350e+02,\n",
       "       3.540e+02, 5.500e+01, 5.540e+02, 5.300e+01, 3.500e+01, 3.450e+02,\n",
       "       5.345e+03, 5.360e+02, 4.300e+01, 5.800e+01, 5.370e+02, 8.700e+01,\n",
       "       5.310e+02, 5.570e+02])"
      ]
     },
     "execution_count": 13,
     "metadata": {},
     "output_type": "execute_result"
    }
   ],
   "source": [
    "# 1)Passenger count( unique values)\n",
    "cab_train['passenger_count'].unique()"
   ]
  },
  {
   "cell_type": "code",
   "execution_count": 14,
   "metadata": {},
   "outputs": [
    {
     "data": {
      "text/plain": [
       "20"
      ]
     },
     "execution_count": 14,
     "metadata": {},
     "output_type": "execute_result"
    }
   ],
   "source": [
    "sum(cab_train['passenger_count']>6) # sum of unique value in cab_train"
   ]
  },
  {
   "cell_type": "code",
   "execution_count": 15,
   "metadata": {},
   "outputs": [
    {
     "data": {
      "text/html": [
       "<div>\n",
       "<style scoped>\n",
       "    .dataframe tbody tr th:only-of-type {\n",
       "        vertical-align: middle;\n",
       "    }\n",
       "\n",
       "    .dataframe tbody tr th {\n",
       "        vertical-align: top;\n",
       "    }\n",
       "\n",
       "    .dataframe thead th {\n",
       "        text-align: right;\n",
       "    }\n",
       "</style>\n",
       "<table border=\"1\" class=\"dataframe\">\n",
       "  <thead>\n",
       "    <tr style=\"text-align: right;\">\n",
       "      <th></th>\n",
       "      <th>fare_amount</th>\n",
       "      <th>pickup_datetime</th>\n",
       "      <th>pickup_longitude</th>\n",
       "      <th>pickup_latitude</th>\n",
       "      <th>dropoff_longitude</th>\n",
       "      <th>dropoff_latitude</th>\n",
       "      <th>passenger_count</th>\n",
       "    </tr>\n",
       "  </thead>\n",
       "  <tbody>\n",
       "    <tr>\n",
       "      <th>233</th>\n",
       "      <td>8.5</td>\n",
       "      <td>2011-07-24 01:14:35+00:00</td>\n",
       "      <td>0.000000</td>\n",
       "      <td>0.000000</td>\n",
       "      <td>0.000000</td>\n",
       "      <td>0.000000</td>\n",
       "      <td>236.0</td>\n",
       "    </tr>\n",
       "    <tr>\n",
       "      <th>263</th>\n",
       "      <td>4.9</td>\n",
       "      <td>2010-07-12 09:44:33+00:00</td>\n",
       "      <td>-73.983249</td>\n",
       "      <td>40.734655</td>\n",
       "      <td>-73.991278</td>\n",
       "      <td>40.738918</td>\n",
       "      <td>456.0</td>\n",
       "    </tr>\n",
       "    <tr>\n",
       "      <th>293</th>\n",
       "      <td>6.1</td>\n",
       "      <td>2011-01-18 23:48:00+00:00</td>\n",
       "      <td>-74.006642</td>\n",
       "      <td>40.738927</td>\n",
       "      <td>-74.010828</td>\n",
       "      <td>40.717907</td>\n",
       "      <td>5334.0</td>\n",
       "    </tr>\n",
       "    <tr>\n",
       "      <th>356</th>\n",
       "      <td>8.5</td>\n",
       "      <td>2013-06-18 10:27:05+00:00</td>\n",
       "      <td>-73.992108</td>\n",
       "      <td>40.764203</td>\n",
       "      <td>-73.973000</td>\n",
       "      <td>40.762695</td>\n",
       "      <td>535.0</td>\n",
       "    </tr>\n",
       "    <tr>\n",
       "      <th>386</th>\n",
       "      <td>8.1</td>\n",
       "      <td>2009-08-21 19:35:05+00:00</td>\n",
       "      <td>-73.960853</td>\n",
       "      <td>40.761557</td>\n",
       "      <td>-73.976335</td>\n",
       "      <td>40.748361</td>\n",
       "      <td>354.0</td>\n",
       "    </tr>\n",
       "    <tr>\n",
       "      <th>413</th>\n",
       "      <td>NaN</td>\n",
       "      <td>2013-09-12 11:32:00+00:00</td>\n",
       "      <td>-73.982060</td>\n",
       "      <td>40.772705</td>\n",
       "      <td>-73.956213</td>\n",
       "      <td>40.771777</td>\n",
       "      <td>55.0</td>\n",
       "    </tr>\n",
       "    <tr>\n",
       "      <th>971</th>\n",
       "      <td>10.1</td>\n",
       "      <td>2010-11-21 01:41:00+00:00</td>\n",
       "      <td>-74.004500</td>\n",
       "      <td>40.742143</td>\n",
       "      <td>-73.994330</td>\n",
       "      <td>40.720412</td>\n",
       "      <td>554.0</td>\n",
       "    </tr>\n",
       "    <tr>\n",
       "      <th>1007</th>\n",
       "      <td>3.7</td>\n",
       "      <td>2010-12-14 14:46:00+00:00</td>\n",
       "      <td>-73.969157</td>\n",
       "      <td>40.759000</td>\n",
       "      <td>-73.968763</td>\n",
       "      <td>40.764617</td>\n",
       "      <td>53.0</td>\n",
       "    </tr>\n",
       "    <tr>\n",
       "      <th>1043</th>\n",
       "      <td>5.7</td>\n",
       "      <td>2012-08-22 22:08:29+00:00</td>\n",
       "      <td>-73.973573</td>\n",
       "      <td>40.760184</td>\n",
       "      <td>-73.953564</td>\n",
       "      <td>40.767392</td>\n",
       "      <td>35.0</td>\n",
       "    </tr>\n",
       "    <tr>\n",
       "      <th>1107</th>\n",
       "      <td>4.9</td>\n",
       "      <td>2009-08-08 21:50:50+00:00</td>\n",
       "      <td>-73.988977</td>\n",
       "      <td>40.721068</td>\n",
       "      <td>-73.982368</td>\n",
       "      <td>40.732064</td>\n",
       "      <td>345.0</td>\n",
       "    </tr>\n",
       "    <tr>\n",
       "      <th>1146</th>\n",
       "      <td>8.0</td>\n",
       "      <td>2014-03-27 08:05:01+00:00</td>\n",
       "      <td>-73.991098</td>\n",
       "      <td>40.770655</td>\n",
       "      <td>-73.976933</td>\n",
       "      <td>40.790070</td>\n",
       "      <td>5345.0</td>\n",
       "    </tr>\n",
       "    <tr>\n",
       "      <th>1200</th>\n",
       "      <td>9.7</td>\n",
       "      <td>2011-08-16 09:29:00+00:00</td>\n",
       "      <td>-73.980487</td>\n",
       "      <td>40.741610</td>\n",
       "      <td>-73.980617</td>\n",
       "      <td>40.746868</td>\n",
       "      <td>536.0</td>\n",
       "    </tr>\n",
       "    <tr>\n",
       "      <th>1242</th>\n",
       "      <td>5.3</td>\n",
       "      <td>2011-10-16 00:22:00+00:00</td>\n",
       "      <td>-73.981095</td>\n",
       "      <td>40.738160</td>\n",
       "      <td>-73.990587</td>\n",
       "      <td>40.740105</td>\n",
       "      <td>43.0</td>\n",
       "    </tr>\n",
       "    <tr>\n",
       "      <th>8406</th>\n",
       "      <td>6.9</td>\n",
       "      <td>2010-08-25 11:41:00+00:00</td>\n",
       "      <td>0.000000</td>\n",
       "      <td>0.000000</td>\n",
       "      <td>0.000000</td>\n",
       "      <td>0.000000</td>\n",
       "      <td>53.0</td>\n",
       "    </tr>\n",
       "    <tr>\n",
       "      <th>8445</th>\n",
       "      <td>5.7</td>\n",
       "      <td>2009-03-28 22:00:00+00:00</td>\n",
       "      <td>-73.982413</td>\n",
       "      <td>40.751320</td>\n",
       "      <td>-73.971292</td>\n",
       "      <td>40.748502</td>\n",
       "      <td>58.0</td>\n",
       "    </tr>\n",
       "    <tr>\n",
       "      <th>8506</th>\n",
       "      <td>11.3</td>\n",
       "      <td>2010-05-23 20:06:37+00:00</td>\n",
       "      <td>-73.985424</td>\n",
       "      <td>40.738468</td>\n",
       "      <td>-74.001698</td>\n",
       "      <td>40.707758</td>\n",
       "      <td>537.0</td>\n",
       "    </tr>\n",
       "    <tr>\n",
       "      <th>8571</th>\n",
       "      <td>12.5</td>\n",
       "      <td>2011-12-03 03:21:00+00:00</td>\n",
       "      <td>-73.993718</td>\n",
       "      <td>40.762039</td>\n",
       "      <td>-73.977527</td>\n",
       "      <td>40.734024</td>\n",
       "      <td>87.0</td>\n",
       "    </tr>\n",
       "    <tr>\n",
       "      <th>8631</th>\n",
       "      <td>20.0</td>\n",
       "      <td>2012-12-10 22:28:00+00:00</td>\n",
       "      <td>-73.955445</td>\n",
       "      <td>40.670232</td>\n",
       "      <td>-74.004795</td>\n",
       "      <td>40.731477</td>\n",
       "      <td>43.0</td>\n",
       "    </tr>\n",
       "    <tr>\n",
       "      <th>8715</th>\n",
       "      <td>4.5</td>\n",
       "      <td>2009-09-04 09:14:03+00:00</td>\n",
       "      <td>-73.977518</td>\n",
       "      <td>40.758480</td>\n",
       "      <td>-73.983252</td>\n",
       "      <td>40.749837</td>\n",
       "      <td>531.0</td>\n",
       "    </tr>\n",
       "    <tr>\n",
       "      <th>8985</th>\n",
       "      <td>8.5</td>\n",
       "      <td>2015-01-14 15:10:21+00:00</td>\n",
       "      <td>-73.955444</td>\n",
       "      <td>40.787605</td>\n",
       "      <td>-73.965561</td>\n",
       "      <td>40.798691</td>\n",
       "      <td>557.0</td>\n",
       "    </tr>\n",
       "  </tbody>\n",
       "</table>\n",
       "</div>"
      ],
      "text/plain": [
       "      fare_amount           pickup_datetime  pickup_longitude  \\\n",
       "233           8.5 2011-07-24 01:14:35+00:00          0.000000   \n",
       "263           4.9 2010-07-12 09:44:33+00:00        -73.983249   \n",
       "293           6.1 2011-01-18 23:48:00+00:00        -74.006642   \n",
       "356           8.5 2013-06-18 10:27:05+00:00        -73.992108   \n",
       "386           8.1 2009-08-21 19:35:05+00:00        -73.960853   \n",
       "413           NaN 2013-09-12 11:32:00+00:00        -73.982060   \n",
       "971          10.1 2010-11-21 01:41:00+00:00        -74.004500   \n",
       "1007          3.7 2010-12-14 14:46:00+00:00        -73.969157   \n",
       "1043          5.7 2012-08-22 22:08:29+00:00        -73.973573   \n",
       "1107          4.9 2009-08-08 21:50:50+00:00        -73.988977   \n",
       "1146          8.0 2014-03-27 08:05:01+00:00        -73.991098   \n",
       "1200          9.7 2011-08-16 09:29:00+00:00        -73.980487   \n",
       "1242          5.3 2011-10-16 00:22:00+00:00        -73.981095   \n",
       "8406          6.9 2010-08-25 11:41:00+00:00          0.000000   \n",
       "8445          5.7 2009-03-28 22:00:00+00:00        -73.982413   \n",
       "8506         11.3 2010-05-23 20:06:37+00:00        -73.985424   \n",
       "8571         12.5 2011-12-03 03:21:00+00:00        -73.993718   \n",
       "8631         20.0 2012-12-10 22:28:00+00:00        -73.955445   \n",
       "8715          4.5 2009-09-04 09:14:03+00:00        -73.977518   \n",
       "8985          8.5 2015-01-14 15:10:21+00:00        -73.955444   \n",
       "\n",
       "      pickup_latitude  dropoff_longitude  dropoff_latitude  passenger_count  \n",
       "233          0.000000           0.000000          0.000000            236.0  \n",
       "263         40.734655         -73.991278         40.738918            456.0  \n",
       "293         40.738927         -74.010828         40.717907           5334.0  \n",
       "356         40.764203         -73.973000         40.762695            535.0  \n",
       "386         40.761557         -73.976335         40.748361            354.0  \n",
       "413         40.772705         -73.956213         40.771777             55.0  \n",
       "971         40.742143         -73.994330         40.720412            554.0  \n",
       "1007        40.759000         -73.968763         40.764617             53.0  \n",
       "1043        40.760184         -73.953564         40.767392             35.0  \n",
       "1107        40.721068         -73.982368         40.732064            345.0  \n",
       "1146        40.770655         -73.976933         40.790070           5345.0  \n",
       "1200        40.741610         -73.980617         40.746868            536.0  \n",
       "1242        40.738160         -73.990587         40.740105             43.0  \n",
       "8406         0.000000           0.000000          0.000000             53.0  \n",
       "8445        40.751320         -73.971292         40.748502             58.0  \n",
       "8506        40.738468         -74.001698         40.707758            537.0  \n",
       "8571        40.762039         -73.977527         40.734024             87.0  \n",
       "8631        40.670232         -74.004795         40.731477             43.0  \n",
       "8715        40.758480         -73.983252         40.749837            531.0  \n",
       "8985        40.787605         -73.965561         40.798691            557.0  "
      ]
     },
     "execution_count": 15,
     "metadata": {},
     "output_type": "execute_result"
    }
   ],
   "source": [
    "cab_train[cab_train['passenger_count']>6]"
   ]
  },
  {
   "cell_type": "code",
   "execution_count": 16,
   "metadata": {},
   "outputs": [
    {
     "data": {
      "text/plain": [
       "58"
      ]
     },
     "execution_count": 16,
     "metadata": {},
     "output_type": "execute_result"
    }
   ],
   "source": [
    "len(cab_train[cab_train['passenger_count']<1])"
   ]
  },
  {
   "cell_type": "code",
   "execution_count": 17,
   "metadata": {},
   "outputs": [
    {
     "data": {
      "text/plain": [
       "array([1.000e+00, 2.000e+00, 3.000e+00,       nan, 6.000e+00, 5.000e+00,\n",
       "       4.000e+00, 2.360e+02, 4.560e+02, 5.334e+03, 0.000e+00, 5.350e+02,\n",
       "       3.540e+02, 5.500e+01, 5.540e+02, 5.300e+01, 3.500e+01, 3.450e+02,\n",
       "       5.345e+03, 5.360e+02, 4.300e+01, 5.800e+01, 5.370e+02, 8.700e+01,\n",
       "       5.310e+02, 5.570e+02])"
      ]
     },
     "execution_count": 17,
     "metadata": {},
     "output_type": "execute_result"
    }
   ],
   "source": [
    "# unique values in cab_train\n",
    "cab_train['passenger_count'].unique()"
   ]
  },
  {
   "cell_type": "code",
   "execution_count": 18,
   "metadata": {},
   "outputs": [],
   "source": [
    "# deleting out off range passenger count \n",
    "cab_train = cab_train.drop(cab_train[cab_train['passenger_count']>6].index, axis=0)\n",
    "cab_train = cab_train.drop(cab_train[cab_train['passenger_count']<1].index, axis=0)"
   ]
  },
  {
   "cell_type": "code",
   "execution_count": 19,
   "metadata": {},
   "outputs": [
    {
     "data": {
      "text/plain": [
       "(0, 0)"
      ]
     },
     "execution_count": 19,
     "metadata": {},
     "output_type": "execute_result"
    }
   ],
   "source": [
    "sum(cab_train['passenger_count']>6),sum(cab_train['passenger_count']<1)"
   ]
  },
  {
   "cell_type": "code",
   "execution_count": 20,
   "metadata": {},
   "outputs": [
    {
     "data": {
      "text/plain": [
       "5"
      ]
     },
     "execution_count": 20,
     "metadata": {},
     "output_type": "execute_result"
    }
   ],
   "source": [
    "# 2) Fare amount\n",
    "sum(cab_train['fare_amount']<1)"
   ]
  },
  {
   "cell_type": "code",
   "execution_count": 21,
   "metadata": {},
   "outputs": [
    {
     "data": {
      "text/html": [
       "<div>\n",
       "<style scoped>\n",
       "    .dataframe tbody tr th:only-of-type {\n",
       "        vertical-align: middle;\n",
       "    }\n",
       "\n",
       "    .dataframe tbody tr th {\n",
       "        vertical-align: top;\n",
       "    }\n",
       "\n",
       "    .dataframe thead th {\n",
       "        text-align: right;\n",
       "    }\n",
       "</style>\n",
       "<table border=\"1\" class=\"dataframe\">\n",
       "  <thead>\n",
       "    <tr style=\"text-align: right;\">\n",
       "      <th></th>\n",
       "      <th>fare_amount</th>\n",
       "      <th>pickup_datetime</th>\n",
       "      <th>pickup_longitude</th>\n",
       "      <th>pickup_latitude</th>\n",
       "      <th>dropoff_longitude</th>\n",
       "      <th>dropoff_latitude</th>\n",
       "      <th>passenger_count</th>\n",
       "    </tr>\n",
       "  </thead>\n",
       "  <tbody>\n",
       "    <tr>\n",
       "      <th>2039</th>\n",
       "      <td>-2.90</td>\n",
       "      <td>2010-03-09 23:37:10+00:00</td>\n",
       "      <td>-73.789450</td>\n",
       "      <td>40.643498</td>\n",
       "      <td>-73.788665</td>\n",
       "      <td>40.641952</td>\n",
       "      <td>1.0</td>\n",
       "    </tr>\n",
       "    <tr>\n",
       "      <th>2486</th>\n",
       "      <td>-2.50</td>\n",
       "      <td>2015-03-22 05:14:27+00:00</td>\n",
       "      <td>-74.000031</td>\n",
       "      <td>40.720631</td>\n",
       "      <td>-73.999809</td>\n",
       "      <td>40.720539</td>\n",
       "      <td>1.0</td>\n",
       "    </tr>\n",
       "    <tr>\n",
       "      <th>2780</th>\n",
       "      <td>0.01</td>\n",
       "      <td>2015-05-01 15:38:41+00:00</td>\n",
       "      <td>-73.939041</td>\n",
       "      <td>40.713963</td>\n",
       "      <td>-73.941673</td>\n",
       "      <td>40.713997</td>\n",
       "      <td>1.0</td>\n",
       "    </tr>\n",
       "    <tr>\n",
       "      <th>10002</th>\n",
       "      <td>0.00</td>\n",
       "      <td>2010-02-15 14:26:01+00:00</td>\n",
       "      <td>-73.987115</td>\n",
       "      <td>40.738808</td>\n",
       "      <td>-74.005911</td>\n",
       "      <td>40.713960</td>\n",
       "      <td>1.0</td>\n",
       "    </tr>\n",
       "    <tr>\n",
       "      <th>13032</th>\n",
       "      <td>-3.00</td>\n",
       "      <td>2013-08-30 08:57:10+00:00</td>\n",
       "      <td>-73.995062</td>\n",
       "      <td>40.740755</td>\n",
       "      <td>-73.995885</td>\n",
       "      <td>40.741357</td>\n",
       "      <td>4.0</td>\n",
       "    </tr>\n",
       "  </tbody>\n",
       "</table>\n",
       "</div>"
      ],
      "text/plain": [
       "       fare_amount           pickup_datetime  pickup_longitude  \\\n",
       "2039         -2.90 2010-03-09 23:37:10+00:00        -73.789450   \n",
       "2486         -2.50 2015-03-22 05:14:27+00:00        -74.000031   \n",
       "2780          0.01 2015-05-01 15:38:41+00:00        -73.939041   \n",
       "10002         0.00 2010-02-15 14:26:01+00:00        -73.987115   \n",
       "13032        -3.00 2013-08-30 08:57:10+00:00        -73.995062   \n",
       "\n",
       "       pickup_latitude  dropoff_longitude  dropoff_latitude  passenger_count  \n",
       "2039         40.643498         -73.788665         40.641952              1.0  \n",
       "2486         40.720631         -73.999809         40.720539              1.0  \n",
       "2780         40.713963         -73.941673         40.713997              1.0  \n",
       "10002        40.738808         -74.005911         40.713960              1.0  \n",
       "13032        40.740755         -73.995885         40.741357              4.0  "
      ]
     },
     "execution_count": 21,
     "metadata": {},
     "output_type": "execute_result"
    }
   ],
   "source": [
    "cab_train[cab_train['fare_amount']<1]"
   ]
  },
  {
   "cell_type": "code",
   "execution_count": 22,
   "metadata": {},
   "outputs": [],
   "source": [
    "# fare amount - Values below 1 and - ve values are deleted\n",
    "cab_train = cab_train.drop(cab_train[cab_train['fare_amount']<1].index, axis=0)"
   ]
  },
  {
   "cell_type": "code",
   "execution_count": 23,
   "metadata": {},
   "outputs": [
    {
     "data": {
      "text/plain": [
       "24"
      ]
     },
     "execution_count": 23,
     "metadata": {},
     "output_type": "execute_result"
    }
   ],
   "source": [
    "cab_train['fare_amount'].isnull().sum()"
   ]
  },
  {
   "cell_type": "code",
   "execution_count": 24,
   "metadata": {},
   "outputs": [
    {
     "name": "stdout",
     "output_type": "stream",
     "text": [
      "pickup_longitude above 180=0\n",
      "pickup_longitude below -180=0\n",
      "pickup_latitude above 90=1\n",
      "pickup_latitude below -90=0\n",
      "dropoff_longitude above 180=0\n",
      "dropoff_longitude below -180=0\n",
      "dropoff_latitude below -90=0\n",
      "dropoff_latitude above 90=0\n"
     ]
    }
   ],
   "source": [
    "# 3) Latitudes range from -90 to 90, Longitudes range from -180 to 180\n",
    "# In this format South latitudes and West longitudes preceded by a minus sign\n",
    "print('pickup_longitude above 180={}'.format(sum(cab_train['pickup_longitude']>180)))\n",
    "print('pickup_longitude below -180={}'.format(sum(cab_train['pickup_longitude']<-180)))\n",
    "print('pickup_latitude above 90={}'.format(sum(cab_train['pickup_latitude']>90)))\n",
    "print('pickup_latitude below -90={}'.format(sum(cab_train['pickup_latitude']<-90)))\n",
    "print('dropoff_longitude above 180={}'.format(sum(cab_train['dropoff_longitude']>180)))\n",
    "print('dropoff_longitude below -180={}'.format(sum(cab_train['dropoff_longitude']<-180)))\n",
    "print('dropoff_latitude below -90={}'.format(sum(cab_train['dropoff_latitude']<-90)))\n",
    "print('dropoff_latitude above 90={}'.format(sum(cab_train['dropoff_latitude']>90)))"
   ]
  },
  {
   "cell_type": "code",
   "execution_count": 25,
   "metadata": {},
   "outputs": [
    {
     "name": "stdout",
     "output_type": "stream",
     "text": [
      "pickup_longitude equal to 0=311\n",
      "pickup_latitude equal to 0=311\n",
      "dropoff_longitude equal to 0=312\n",
      "dropoff_latitude equal to 0=310\n"
     ]
    }
   ],
   "source": [
    "for i in ['pickup_longitude','pickup_latitude','dropoff_longitude','dropoff_latitude']:\n",
    "    print(i,'equal to 0={}'.format(sum(cab_train[i]==0)))"
   ]
  },
  {
   "cell_type": "code",
   "execution_count": 26,
   "metadata": {},
   "outputs": [],
   "source": [
    "cab_train = cab_train.drop(cab_train[cab_train['pickup_latitude']>90].index, axis=0)\n",
    "for i in ['pickup_longitude','pickup_latitude','dropoff_longitude','dropoff_latitude']:\n",
    "    cab_train = cab_train.drop(cab_train[cab_train[i]==0].index, axis=0)"
   ]
  },
  {
   "cell_type": "code",
   "execution_count": 27,
   "metadata": {},
   "outputs": [],
   "source": [
    "cab_train = cab_train.drop(cab_train[cab_train['pickup_longitude']>=0].index, axis=0)\n",
    "cab_train = cab_train.drop(cab_train[cab_train['pickup_latitude']<=0].index, axis=0)\n",
    "cab_train = cab_train.drop(cab_train[cab_train['dropoff_longitude']>=0].index, axis=0)\n",
    "cab_train = cab_train.drop(cab_train[cab_train['dropoff_latitude']<=0].index, axis=0)"
   ]
  },
  {
   "cell_type": "code",
   "execution_count": 28,
   "metadata": {},
   "outputs": [
    {
     "data": {
      "text/plain": [
       "(15652, 7)"
      ]
     },
     "execution_count": 28,
     "metadata": {},
     "output_type": "execute_result"
    }
   ],
   "source": [
    "cab_train.shape"
   ]
  },
  {
   "cell_type": "code",
   "execution_count": 29,
   "metadata": {},
   "outputs": [],
   "source": [
    "df=cab_train.copy()\n",
    "# cab_train=df.copy()"
   ]
  },
  {
   "cell_type": "markdown",
   "metadata": {},
   "source": [
    "Missing value analysis"
   ]
  },
  {
   "cell_type": "code",
   "execution_count": 30,
   "metadata": {},
   "outputs": [
    {
     "data": {
      "text/html": [
       "<div>\n",
       "<style scoped>\n",
       "    .dataframe tbody tr th:only-of-type {\n",
       "        vertical-align: middle;\n",
       "    }\n",
       "\n",
       "    .dataframe tbody tr th {\n",
       "        vertical-align: top;\n",
       "    }\n",
       "\n",
       "    .dataframe thead th {\n",
       "        text-align: right;\n",
       "    }\n",
       "</style>\n",
       "<table border=\"1\" class=\"dataframe\">\n",
       "  <thead>\n",
       "    <tr style=\"text-align: right;\">\n",
       "      <th></th>\n",
       "      <th>Variables</th>\n",
       "      <th>Missing_perc</th>\n",
       "    </tr>\n",
       "  </thead>\n",
       "  <tbody>\n",
       "    <tr>\n",
       "      <th>0</th>\n",
       "      <td>passenger_count</td>\n",
       "      <td>0.351393</td>\n",
       "    </tr>\n",
       "    <tr>\n",
       "      <th>1</th>\n",
       "      <td>fare_amount</td>\n",
       "      <td>0.140557</td>\n",
       "    </tr>\n",
       "    <tr>\n",
       "      <th>2</th>\n",
       "      <td>pickup_datetime</td>\n",
       "      <td>0.006389</td>\n",
       "    </tr>\n",
       "    <tr>\n",
       "      <th>3</th>\n",
       "      <td>pickup_longitude</td>\n",
       "      <td>0.000000</td>\n",
       "    </tr>\n",
       "    <tr>\n",
       "      <th>4</th>\n",
       "      <td>pickup_latitude</td>\n",
       "      <td>0.000000</td>\n",
       "    </tr>\n",
       "    <tr>\n",
       "      <th>5</th>\n",
       "      <td>dropoff_longitude</td>\n",
       "      <td>0.000000</td>\n",
       "    </tr>\n",
       "    <tr>\n",
       "      <th>6</th>\n",
       "      <td>dropoff_latitude</td>\n",
       "      <td>0.000000</td>\n",
       "    </tr>\n",
       "  </tbody>\n",
       "</table>\n",
       "</div>"
      ],
      "text/plain": [
       "           Variables  Missing_perc\n",
       "0    passenger_count      0.351393\n",
       "1        fare_amount      0.140557\n",
       "2    pickup_datetime      0.006389\n",
       "3   pickup_longitude      0.000000\n",
       "4    pickup_latitude      0.000000\n",
       "5  dropoff_longitude      0.000000\n",
       "6   dropoff_latitude      0.000000"
      ]
     },
     "execution_count": 30,
     "metadata": {},
     "output_type": "execute_result"
    }
   ],
   "source": [
    "# Creating missing value analysis\n",
    "missing_val = pd.DataFrame(cab_train.isnull().sum())\n",
    "\n",
    "# Resetting index\n",
    "missing_val = missing_val.reset_index()\n",
    "\n",
    "# Rename variables\n",
    "missing_val = missing_val.rename(columns={'index':\"Variables\",0:\"Missing_perc\"})\n",
    "\n",
    "#Calculate percentage\n",
    "missing_val['Missing_perc'] = (missing_val['Missing_perc']/len(cab_train))*100\n",
    "\n",
    "# Descending order\n",
    "missing_val = missing_val.sort_values('Missing_perc',ascending = False).reset_index(drop = True)\n",
    "\n",
    "# Save the missing percentage document\n",
    "missing_val.to_csv(\"Missing_perc_cab_train_python.csv\",index = False)\n",
    "\n",
    "missing_val"
   ]
  },
  {
   "cell_type": "code",
   "execution_count": 31,
   "metadata": {},
   "outputs": [],
   "source": [
    "cab_train = cab_train.reset_index(drop=True)"
   ]
  },
  {
   "cell_type": "code",
   "execution_count": 32,
   "metadata": {},
   "outputs": [],
   "source": [
    "#pickup_datetime variable is separated and formed into dataframe, it is mergerd to cab_train for feature engineering\n",
    "pickup_datetime=pd.DataFrame(cab_train['pickup_datetime'])"
   ]
  },
  {
   "cell_type": "code",
   "execution_count": 33,
   "metadata": {},
   "outputs": [
    {
     "data": {
      "text/plain": [
       "(15652, 1)"
      ]
     },
     "execution_count": 33,
     "metadata": {},
     "output_type": "execute_result"
    }
   ],
   "source": [
    "pickup_datetime.shape"
   ]
  },
  {
   "cell_type": "code",
   "execution_count": 34,
   "metadata": {},
   "outputs": [
    {
     "data": {
      "text/html": [
       "<div>\n",
       "<style scoped>\n",
       "    .dataframe tbody tr th:only-of-type {\n",
       "        vertical-align: middle;\n",
       "    }\n",
       "\n",
       "    .dataframe tbody tr th {\n",
       "        vertical-align: top;\n",
       "    }\n",
       "\n",
       "    .dataframe thead th {\n",
       "        text-align: right;\n",
       "    }\n",
       "</style>\n",
       "<table border=\"1\" class=\"dataframe\">\n",
       "  <thead>\n",
       "    <tr style=\"text-align: right;\">\n",
       "      <th></th>\n",
       "      <th>pickup_datetime</th>\n",
       "    </tr>\n",
       "  </thead>\n",
       "  <tbody>\n",
       "    <tr>\n",
       "      <th>0</th>\n",
       "      <td>2009-06-15 17:26:21+00:00</td>\n",
       "    </tr>\n",
       "    <tr>\n",
       "      <th>1</th>\n",
       "      <td>2010-01-05 16:52:16+00:00</td>\n",
       "    </tr>\n",
       "    <tr>\n",
       "      <th>2</th>\n",
       "      <td>2011-08-18 00:35:00+00:00</td>\n",
       "    </tr>\n",
       "    <tr>\n",
       "      <th>3</th>\n",
       "      <td>2012-04-21 04:30:42+00:00</td>\n",
       "    </tr>\n",
       "    <tr>\n",
       "      <th>4</th>\n",
       "      <td>2010-03-09 07:51:00+00:00</td>\n",
       "    </tr>\n",
       "  </tbody>\n",
       "</table>\n",
       "</div>"
      ],
      "text/plain": [
       "            pickup_datetime\n",
       "0 2009-06-15 17:26:21+00:00\n",
       "1 2010-01-05 16:52:16+00:00\n",
       "2 2011-08-18 00:35:00+00:00\n",
       "3 2012-04-21 04:30:42+00:00\n",
       "4 2010-03-09 07:51:00+00:00"
      ]
     },
     "execution_count": 34,
     "metadata": {},
     "output_type": "execute_result"
    }
   ],
   "source": [
    "pickup_datetime.head(5)"
   ]
  },
  {
   "cell_type": "markdown",
   "metadata": {},
   "source": [
    "Imputation method"
   ]
  },
  {
   "cell_type": "code",
   "execution_count": 35,
   "metadata": {},
   "outputs": [
    {
     "data": {
      "text/plain": [
       "12.5"
      ]
     },
     "execution_count": 35,
     "metadata": {},
     "output_type": "execute_result"
    }
   ],
   "source": [
    "cab_train['fare_amount'].loc[14]"
   ]
  },
  {
   "cell_type": "code",
   "execution_count": 36,
   "metadata": {},
   "outputs": [],
   "source": [
    "# Actual value = 12.5\n",
    "# Mean imputed value = 15.11\n",
    "# Median imputed value = 8.5\n",
    "# KNN imputed value = 8.8"
   ]
  },
  {
   "cell_type": "code",
   "execution_count": 37,
   "metadata": {},
   "outputs": [],
   "source": [
    "cab_train['fare_amount'].loc[14]=np.nan"
   ]
  },
  {
   "cell_type": "code",
   "execution_count": 38,
   "metadata": {},
   "outputs": [
    {
     "data": {
      "text/plain": [
       "nan"
      ]
     },
     "execution_count": 38,
     "metadata": {},
     "output_type": "execute_result"
    }
   ],
   "source": [
    "cab_train['fare_amount'].loc[14]"
   ]
  },
  {
   "cell_type": "code",
   "execution_count": 39,
   "metadata": {},
   "outputs": [],
   "source": [
    "cab_train = cab_train.drop(['pickup_datetime'],axis=1)"
   ]
  },
  {
   "cell_type": "code",
   "execution_count": 40,
   "metadata": {},
   "outputs": [
    {
     "data": {
      "text/plain": [
       "Index(['fare_amount', 'pickup_longitude', 'pickup_latitude',\n",
       "       'dropoff_longitude', 'dropoff_latitude', 'passenger_count'],\n",
       "      dtype='object')"
      ]
     },
     "execution_count": 40,
     "metadata": {},
     "output_type": "execute_result"
    }
   ],
   "source": [
    "cab_train.columns"
   ]
  },
  {
   "cell_type": "code",
   "execution_count": 41,
   "metadata": {},
   "outputs": [],
   "source": [
    "# Impute with mean\n",
    "# cab_train['fare_amount'] = cab_train['fare_amount'].fillna(cab_train['fare_amount'].mean())\n",
    "\n",
    "# Impute with median\n",
    "# cab_train['fare_amount'] = cab_train['fare_amount'].fillna(cab_train['fare_amount'].median())\n"
   ]
  },
  {
   "cell_type": "code",
   "execution_count": 42,
   "metadata": {},
   "outputs": [
    {
     "name": "stdout",
     "output_type": "stream",
     "text": [
      "Imputing row 1/10000 with 0 missing, elapsed time: 40.116\n",
      "Imputing row 101/10000 with 0 missing, elapsed time: 49.855\n",
      "Imputing row 201/10000 with 0 missing, elapsed time: 49.861\n",
      "Imputing row 301/10000 with 0 missing, elapsed time: 49.864\n",
      "Imputing row 401/10000 with 0 missing, elapsed time: 49.866\n",
      "Imputing row 501/10000 with 0 missing, elapsed time: 49.870\n",
      "Imputing row 601/10000 with 0 missing, elapsed time: 49.874\n",
      "Imputing row 701/10000 with 0 missing, elapsed time: 49.878\n",
      "Imputing row 801/10000 with 0 missing, elapsed time: 49.881\n",
      "Imputing row 901/10000 with 0 missing, elapsed time: 49.883\n",
      "Imputing row 1001/10000 with 0 missing, elapsed time: 49.885\n",
      "Imputing row 1101/10000 with 0 missing, elapsed time: 49.886\n",
      "Imputing row 1201/10000 with 0 missing, elapsed time: 49.887\n",
      "Imputing row 1301/10000 with 0 missing, elapsed time: 49.889\n",
      "Imputing row 1401/10000 with 0 missing, elapsed time: 49.891\n",
      "Imputing row 1501/10000 with 0 missing, elapsed time: 49.892\n",
      "Imputing row 1601/10000 with 0 missing, elapsed time: 49.893\n",
      "Imputing row 1701/10000 with 0 missing, elapsed time: 49.894\n",
      "Imputing row 1801/10000 with 0 missing, elapsed time: 49.895\n",
      "Imputing row 1901/10000 with 0 missing, elapsed time: 49.896\n",
      "Imputing row 2001/10000 with 0 missing, elapsed time: 49.897\n",
      "Imputing row 2101/10000 with 0 missing, elapsed time: 49.898\n",
      "Imputing row 2201/10000 with 0 missing, elapsed time: 49.898\n",
      "Imputing row 2301/10000 with 0 missing, elapsed time: 49.899\n",
      "Imputing row 2401/10000 with 0 missing, elapsed time: 49.900\n",
      "Imputing row 2501/10000 with 0 missing, elapsed time: 49.901\n",
      "Imputing row 2601/10000 with 0 missing, elapsed time: 49.901\n",
      "Imputing row 2701/10000 with 0 missing, elapsed time: 49.902\n",
      "Imputing row 2801/10000 with 0 missing, elapsed time: 49.902\n",
      "Imputing row 2901/10000 with 0 missing, elapsed time: 49.903\n",
      "Imputing row 3001/10000 with 0 missing, elapsed time: 49.903\n",
      "Imputing row 3101/10000 with 0 missing, elapsed time: 49.904\n",
      "Imputing row 3201/10000 with 0 missing, elapsed time: 49.905\n",
      "Imputing row 3301/10000 with 0 missing, elapsed time: 49.905\n",
      "Imputing row 3401/10000 with 0 missing, elapsed time: 49.905\n",
      "Imputing row 3501/10000 with 0 missing, elapsed time: 49.906\n",
      "Imputing row 3601/10000 with 0 missing, elapsed time: 49.907\n",
      "Imputing row 3701/10000 with 0 missing, elapsed time: 49.907\n",
      "Imputing row 3801/10000 with 0 missing, elapsed time: 49.908\n",
      "Imputing row 3901/10000 with 0 missing, elapsed time: 49.909\n",
      "Imputing row 4001/10000 with 0 missing, elapsed time: 49.909\n",
      "Imputing row 4101/10000 with 0 missing, elapsed time: 49.910\n",
      "Imputing row 4201/10000 with 0 missing, elapsed time: 49.910\n",
      "Imputing row 4301/10000 with 0 missing, elapsed time: 49.911\n",
      "Imputing row 4401/10000 with 0 missing, elapsed time: 49.911\n",
      "Imputing row 4501/10000 with 0 missing, elapsed time: 49.912\n",
      "Imputing row 4601/10000 with 0 missing, elapsed time: 49.912\n",
      "Imputing row 4701/10000 with 0 missing, elapsed time: 49.913\n",
      "Imputing row 4801/10000 with 0 missing, elapsed time: 49.913\n",
      "Imputing row 4901/10000 with 0 missing, elapsed time: 49.914\n",
      "Imputing row 5001/10000 with 0 missing, elapsed time: 49.916\n",
      "Imputing row 5101/10000 with 0 missing, elapsed time: 49.917\n",
      "Imputing row 5201/10000 with 0 missing, elapsed time: 49.917\n",
      "Imputing row 5301/10000 with 0 missing, elapsed time: 49.918\n",
      "Imputing row 5401/10000 with 0 missing, elapsed time: 49.918\n",
      "Imputing row 5501/10000 with 0 missing, elapsed time: 49.919\n",
      "Imputing row 5601/10000 with 0 missing, elapsed time: 49.919\n",
      "Imputing row 5701/10000 with 0 missing, elapsed time: 49.920\n",
      "Imputing row 5801/10000 with 0 missing, elapsed time: 49.921\n",
      "Imputing row 5901/10000 with 0 missing, elapsed time: 49.921\n",
      "Imputing row 6001/10000 with 0 missing, elapsed time: 49.922\n",
      "Imputing row 6101/10000 with 0 missing, elapsed time: 49.922\n",
      "Imputing row 6201/10000 with 0 missing, elapsed time: 49.923\n",
      "Imputing row 6301/10000 with 0 missing, elapsed time: 49.924\n",
      "Imputing row 6401/10000 with 0 missing, elapsed time: 49.926\n",
      "Imputing row 6501/10000 with 0 missing, elapsed time: 49.926\n",
      "Imputing row 6601/10000 with 0 missing, elapsed time: 49.927\n",
      "Imputing row 6701/10000 with 0 missing, elapsed time: 49.928\n",
      "Imputing row 6801/10000 with 0 missing, elapsed time: 49.928\n",
      "Imputing row 6901/10000 with 0 missing, elapsed time: 49.929\n",
      "Imputing row 7001/10000 with 0 missing, elapsed time: 49.929\n",
      "Imputing row 7101/10000 with 0 missing, elapsed time: 49.930\n",
      "Imputing row 7201/10000 with 0 missing, elapsed time: 49.930\n",
      "Imputing row 7301/10000 with 0 missing, elapsed time: 49.931\n",
      "Imputing row 7401/10000 with 0 missing, elapsed time: 49.931\n",
      "Imputing row 7501/10000 with 0 missing, elapsed time: 49.932\n",
      "Imputing row 7601/10000 with 0 missing, elapsed time: 49.934\n",
      "Imputing row 7701/10000 with 0 missing, elapsed time: 49.935\n",
      "Imputing row 7801/10000 with 0 missing, elapsed time: 49.936\n",
      "Imputing row 7901/10000 with 0 missing, elapsed time: 49.937\n",
      "Imputing row 8001/10000 with 0 missing, elapsed time: 49.938\n",
      "Imputing row 8101/10000 with 0 missing, elapsed time: 49.940\n",
      "Imputing row 8201/10000 with 0 missing, elapsed time: 49.941\n",
      "Imputing row 8301/10000 with 0 missing, elapsed time: 49.941\n",
      "Imputing row 8401/10000 with 0 missing, elapsed time: 49.942\n",
      "Imputing row 8501/10000 with 0 missing, elapsed time: 49.942\n",
      "Imputing row 8601/10000 with 0 missing, elapsed time: 49.943\n",
      "Imputing row 8701/10000 with 0 missing, elapsed time: 49.943\n",
      "Imputing row 8801/10000 with 0 missing, elapsed time: 49.944\n",
      "Imputing row 8901/10000 with 0 missing, elapsed time: 49.944\n",
      "Imputing row 9001/10000 with 0 missing, elapsed time: 49.945\n",
      "Imputing row 9101/10000 with 0 missing, elapsed time: 49.945\n",
      "Imputing row 9201/10000 with 0 missing, elapsed time: 49.946\n",
      "Imputing row 9301/10000 with 0 missing, elapsed time: 49.946\n",
      "Imputing row 9401/10000 with 0 missing, elapsed time: 49.947\n",
      "Imputing row 9501/10000 with 0 missing, elapsed time: 49.949\n",
      "Imputing row 9601/10000 with 0 missing, elapsed time: 49.950\n",
      "Imputing row 9701/10000 with 0 missing, elapsed time: 49.950\n",
      "Imputing row 9801/10000 with 0 missing, elapsed time: 49.951\n",
      "Imputing row 9901/10000 with 0 missing, elapsed time: 49.951\n"
     ]
    }
   ],
   "source": [
    "# KNN imputation\n",
    "imp1=pd.DataFrame(KNN(k=3).fit_transform(cab_train.iloc[0:10000,:]),columns = cab_train.columns)"
   ]
  },
  {
   "cell_type": "code",
   "execution_count": 43,
   "metadata": {},
   "outputs": [
    {
     "name": "stdout",
     "output_type": "stream",
     "text": [
      "Imputing row 1/5652 with 0 missing, elapsed time: 6.347\n",
      "Imputing row 101/5652 with 0 missing, elapsed time: 6.347\n",
      "Imputing row 201/5652 with 0 missing, elapsed time: 6.348\n",
      "Imputing row 301/5652 with 0 missing, elapsed time: 6.348\n",
      "Imputing row 401/5652 with 0 missing, elapsed time: 6.349\n",
      "Imputing row 501/5652 with 0 missing, elapsed time: 6.349\n",
      "Imputing row 601/5652 with 0 missing, elapsed time: 6.350\n",
      "Imputing row 701/5652 with 0 missing, elapsed time: 6.350\n",
      "Imputing row 801/5652 with 0 missing, elapsed time: 6.351\n",
      "Imputing row 901/5652 with 0 missing, elapsed time: 6.351\n",
      "Imputing row 1001/5652 with 0 missing, elapsed time: 6.352\n",
      "Imputing row 1101/5652 with 0 missing, elapsed time: 6.352\n",
      "Imputing row 1201/5652 with 0 missing, elapsed time: 6.353\n",
      "Imputing row 1301/5652 with 0 missing, elapsed time: 6.353\n",
      "Imputing row 1401/5652 with 0 missing, elapsed time: 6.354\n",
      "Imputing row 1501/5652 with 0 missing, elapsed time: 6.354\n",
      "Imputing row 1601/5652 with 0 missing, elapsed time: 6.355\n",
      "Imputing row 1701/5652 with 0 missing, elapsed time: 6.355\n",
      "Imputing row 1801/5652 with 0 missing, elapsed time: 6.356\n",
      "Imputing row 1901/5652 with 0 missing, elapsed time: 6.356\n",
      "Imputing row 2001/5652 with 0 missing, elapsed time: 6.357\n",
      "Imputing row 2101/5652 with 0 missing, elapsed time: 6.357\n",
      "Imputing row 2201/5652 with 0 missing, elapsed time: 6.358\n",
      "Imputing row 2301/5652 with 0 missing, elapsed time: 6.358\n",
      "Imputing row 2401/5652 with 0 missing, elapsed time: 6.359\n",
      "Imputing row 2501/5652 with 0 missing, elapsed time: 6.359\n",
      "Imputing row 2601/5652 with 0 missing, elapsed time: 6.360\n",
      "Imputing row 2701/5652 with 0 missing, elapsed time: 6.360\n",
      "Imputing row 2801/5652 with 0 missing, elapsed time: 6.361\n",
      "Imputing row 2901/5652 with 0 missing, elapsed time: 6.361\n",
      "Imputing row 3001/5652 with 0 missing, elapsed time: 6.362\n",
      "Imputing row 3101/5652 with 0 missing, elapsed time: 6.362\n",
      "Imputing row 3201/5652 with 0 missing, elapsed time: 6.363\n",
      "Imputing row 3301/5652 with 0 missing, elapsed time: 6.363\n",
      "Imputing row 3401/5652 with 0 missing, elapsed time: 6.364\n",
      "Imputing row 3501/5652 with 0 missing, elapsed time: 6.364\n",
      "Imputing row 3601/5652 with 0 missing, elapsed time: 6.365\n",
      "Imputing row 3701/5652 with 0 missing, elapsed time: 6.365\n",
      "Imputing row 3801/5652 with 0 missing, elapsed time: 6.366\n",
      "Imputing row 3901/5652 with 0 missing, elapsed time: 6.366\n",
      "Imputing row 4001/5652 with 0 missing, elapsed time: 6.366\n",
      "Imputing row 4101/5652 with 0 missing, elapsed time: 6.367\n",
      "Imputing row 4201/5652 with 0 missing, elapsed time: 6.368\n",
      "Imputing row 4301/5652 with 0 missing, elapsed time: 6.368\n",
      "Imputing row 4401/5652 with 0 missing, elapsed time: 6.369\n",
      "Imputing row 4501/5652 with 0 missing, elapsed time: 6.369\n",
      "Imputing row 4601/5652 with 0 missing, elapsed time: 6.370\n",
      "Imputing row 4701/5652 with 0 missing, elapsed time: 6.370\n",
      "Imputing row 4801/5652 with 0 missing, elapsed time: 6.371\n",
      "Imputing row 4901/5652 with 0 missing, elapsed time: 6.371\n",
      "Imputing row 5001/5652 with 0 missing, elapsed time: 6.372\n",
      "Imputing row 5101/5652 with 0 missing, elapsed time: 6.372\n",
      "Imputing row 5201/5652 with 0 missing, elapsed time: 6.373\n",
      "Imputing row 5301/5652 with 0 missing, elapsed time: 6.373\n",
      "Imputing row 5401/5652 with 0 missing, elapsed time: 6.374\n",
      "Imputing row 5501/5652 with 0 missing, elapsed time: 6.374\n",
      "Imputing row 5601/5652 with 0 missing, elapsed time: 6.375\n"
     ]
    }
   ],
   "source": [
    "imp2=pd.DataFrame(KNN(k=3).fit_transform(cab_train.iloc[10000:15652,:]),columns = cab_train.columns)"
   ]
  },
  {
   "cell_type": "code",
   "execution_count": 44,
   "metadata": {},
   "outputs": [],
   "source": [
    "cab_train = imp1.append(imp2)"
   ]
  },
  {
   "cell_type": "code",
   "execution_count": 45,
   "metadata": {},
   "outputs": [],
   "source": [
    "cab_train = cab_train.reset_index(drop=True)"
   ]
  },
  {
   "cell_type": "code",
   "execution_count": 46,
   "metadata": {},
   "outputs": [
    {
     "data": {
      "text/plain": [
       "8.869716701649539"
      ]
     },
     "execution_count": 46,
     "metadata": {},
     "output_type": "execute_result"
    }
   ],
   "source": [
    "cab_train['fare_amount'].loc[14]"
   ]
  },
  {
   "cell_type": "code",
   "execution_count": 47,
   "metadata": {},
   "outputs": [],
   "source": [
    "df1=cab_train.copy()\n",
    "# cab_train=df1.copy()"
   ]
  },
  {
   "cell_type": "code",
   "execution_count": 48,
   "metadata": {},
   "outputs": [],
   "source": [
    "cab_train.loc[:,'passenger_count']=cab_train.loc[:,'passenger_count'].round()\n",
    "cab_train['passenger_count']=cab_train['passenger_count'].astype('int')"
   ]
  },
  {
   "cell_type": "code",
   "execution_count": 49,
   "metadata": {},
   "outputs": [
    {
     "data": {
      "text/plain": [
       "count    15652.000000\n",
       "mean         1.651099\n",
       "std          1.265417\n",
       "min          1.000000\n",
       "25%          1.000000\n",
       "50%          1.000000\n",
       "75%          2.000000\n",
       "max          6.000000\n",
       "Name: passenger_count, dtype: float64"
      ]
     },
     "execution_count": 49,
     "metadata": {},
     "output_type": "execute_result"
    }
   ],
   "source": [
    "cab_train['passenger_count'].describe()"
   ]
  },
  {
   "cell_type": "markdown",
   "metadata": {},
   "source": [
    "Outlier analysis"
   ]
  },
  {
   "cell_type": "code",
   "execution_count": 50,
   "metadata": {},
   "outputs": [
    {
     "data": {
      "image/png": "[encoded data removed]",
      "text/plain": [
       "<Figure size 1440x360 with 1 Axes>"
      ]
     },
     "metadata": {
      "needs_background": "light"
     },
     "output_type": "display_data"
    }
   ],
   "source": [
    "plt.figure(figsize=(20,5)) \n",
    "plt.xlim(0,100)\n",
    "sns.boxplot(x=cab_train['fare_amount'],data=cab_train,orient='h')\n",
    "plt.title('Boxplot of fare_amount')\n",
    "# plt.savefig('bp of fare_amount.png')\n",
    "plt.show()"
   ]
  },
  {
   "cell_type": "code",
   "execution_count": 51,
   "metadata": {},
   "outputs": [
    {
     "data": {
      "image/png": "[encoded data removed]",
      "text/plain": [
       "<Figure size 1440x720 with 1 Axes>"
      ]
     },
     "metadata": {
      "needs_background": "light"
     },
     "output_type": "display_data"
    }
   ],
   "source": [
    "plt.figure(figsize=(20,10))\n",
    "plt.xlim(0,100)\n",
    "_ = sns.boxplot(x=cab_train['fare_amount'],y=cab_train['passenger_count'],data=cab_train,orient='h')\n",
    "plt.title('Boxplot of fare_amount VS passenger_count')\n",
    "# plt.savefig('Boxplot of fare_amount w.r.t passenger_count.png')\n",
    "plt.show()"
   ]
  },
  {
   "cell_type": "code",
   "execution_count": 52,
   "metadata": {},
   "outputs": [],
   "source": [
    "def outlier_treatment(col):\n",
    "    ''' calculating outlier indices and replacing them with NA  '''\n",
    "    #Extract quartiles\n",
    "    q75, q25 = np.percentile(cab_train[col], [75 ,25])\n",
    "    print(q75,q25)\n",
    "    #Calculate IQR\n",
    "    iqr = q75 - q25\n",
    "    #Calculate inner and outer fence\n",
    "    minimum = q25 - (iqr*1.5)\n",
    "    maximum = q75 + (iqr*1.5)\n",
    "    print(minimum,maximum)\n",
    "    #Replace with NA\n",
    "    cab_train.loc[cab_train[col] < minimum,col] = np.nan\n",
    "    cab_train.loc[cab_train[col] > maximum,col] = np.nan"
   ]
  },
  {
   "cell_type": "code",
   "execution_count": 53,
   "metadata": {},
   "outputs": [
    {
     "name": "stdout",
     "output_type": "stream",
     "text": [
      "12.5 6.0\n",
      "-3.75 22.25\n"
     ]
    }
   ],
   "source": [
    "outlier_treatment('fare_amount')"
   ]
  },
  {
   "cell_type": "code",
   "execution_count": 54,
   "metadata": {},
   "outputs": [
    {
     "data": {
      "text/plain": [
       "fare_amount          1358\n",
       "pickup_longitude        0\n",
       "pickup_latitude         0\n",
       "dropoff_longitude       0\n",
       "dropoff_latitude        0\n",
       "passenger_count         0\n",
       "dtype: int64"
      ]
     },
     "execution_count": 54,
     "metadata": {},
     "output_type": "execute_result"
    }
   ],
   "source": [
    "cab_train.isnull().sum()"
   ]
  },
  {
   "cell_type": "code",
   "execution_count": 55,
   "metadata": {},
   "outputs": [
    {
     "name": "stdout",
     "output_type": "stream",
     "text": [
      "Imputing row 1/10000 with 0 missing, elapsed time: 24.547\n",
      "Imputing row 101/10000 with 0 missing, elapsed time: 27.862\n",
      "Imputing row 201/10000 with 0 missing, elapsed time: 27.872\n",
      "Imputing row 301/10000 with 1 missing, elapsed time: 27.877\n",
      "Imputing row 401/10000 with 0 missing, elapsed time: 27.885\n",
      "Imputing row 501/10000 with 0 missing, elapsed time: 27.894\n",
      "Imputing row 601/10000 with 1 missing, elapsed time: 30.317\n",
      "Imputing row 701/10000 with 0 missing, elapsed time: 32.866\n",
      "Imputing row 801/10000 with 0 missing, elapsed time: 32.873\n",
      "Imputing row 901/10000 with 0 missing, elapsed time: 32.877\n",
      "Imputing row 1001/10000 with 0 missing, elapsed time: 32.883\n",
      "Imputing row 1101/10000 with 1 missing, elapsed time: 32.888\n",
      "Imputing row 1201/10000 with 0 missing, elapsed time: 32.892\n",
      "Imputing row 1301/10000 with 0 missing, elapsed time: 32.895\n",
      "Imputing row 1401/10000 with 0 missing, elapsed time: 32.899\n",
      "Imputing row 1501/10000 with 0 missing, elapsed time: 32.903\n",
      "Imputing row 1601/10000 with 0 missing, elapsed time: 32.907\n",
      "Imputing row 1701/10000 with 0 missing, elapsed time: 32.910\n",
      "Imputing row 1801/10000 with 0 missing, elapsed time: 32.912\n",
      "Imputing row 1901/10000 with 0 missing, elapsed time: 32.914\n",
      "Imputing row 2001/10000 with 0 missing, elapsed time: 32.916\n",
      "Imputing row 2101/10000 with 0 missing, elapsed time: 32.918\n",
      "Imputing row 2201/10000 with 0 missing, elapsed time: 32.921\n",
      "Imputing row 2301/10000 with 1 missing, elapsed time: 32.924\n",
      "Imputing row 2401/10000 with 0 missing, elapsed time: 32.927\n",
      "Imputing row 2501/10000 with 0 missing, elapsed time: 32.929\n",
      "Imputing row 2601/10000 with 0 missing, elapsed time: 32.932\n",
      "Imputing row 2701/10000 with 0 missing, elapsed time: 32.936\n",
      "Imputing row 2801/10000 with 0 missing, elapsed time: 32.939\n",
      "Imputing row 2901/10000 with 0 missing, elapsed time: 32.941\n",
      "Imputing row 3001/10000 with 0 missing, elapsed time: 32.943\n",
      "Imputing row 3101/10000 with 0 missing, elapsed time: 32.946\n",
      "Imputing row 3201/10000 with 0 missing, elapsed time: 32.950\n",
      "Imputing row 3301/10000 with 0 missing, elapsed time: 32.954\n",
      "Imputing row 3401/10000 with 1 missing, elapsed time: 32.957\n",
      "Imputing row 3501/10000 with 0 missing, elapsed time: 32.961\n",
      "Imputing row 3601/10000 with 0 missing, elapsed time: 32.963\n",
      "Imputing row 3701/10000 with 0 missing, elapsed time: 32.966\n",
      "Imputing row 3801/10000 with 0 missing, elapsed time: 32.971\n",
      "Imputing row 3901/10000 with 1 missing, elapsed time: 32.974\n",
      "Imputing row 4001/10000 with 0 missing, elapsed time: 32.977\n",
      "Imputing row 4101/10000 with 0 missing, elapsed time: 32.979\n",
      "Imputing row 4201/10000 with 0 missing, elapsed time: 32.982\n",
      "Imputing row 4301/10000 with 0 missing, elapsed time: 32.984\n",
      "Imputing row 4401/10000 with 0 missing, elapsed time: 32.988\n",
      "Imputing row 4501/10000 with 0 missing, elapsed time: 32.991\n",
      "Imputing row 4601/10000 with 0 missing, elapsed time: 32.994\n",
      "Imputing row 4701/10000 with 0 missing, elapsed time: 32.997\n",
      "Imputing row 4801/10000 with 0 missing, elapsed time: 33.000\n",
      "Imputing row 4901/10000 with 0 missing, elapsed time: 33.002\n",
      "Imputing row 5001/10000 with 0 missing, elapsed time: 33.004\n",
      "Imputing row 5101/10000 with 0 missing, elapsed time: 33.007\n",
      "Imputing row 5201/10000 with 0 missing, elapsed time: 33.008\n",
      "Imputing row 5301/10000 with 0 missing, elapsed time: 33.010\n",
      "Imputing row 5401/10000 with 0 missing, elapsed time: 33.012\n",
      "Imputing row 5501/10000 with 0 missing, elapsed time: 33.015\n",
      "Imputing row 5601/10000 with 0 missing, elapsed time: 33.018\n",
      "Imputing row 5701/10000 with 0 missing, elapsed time: 33.020\n",
      "Imputing row 5801/10000 with 0 missing, elapsed time: 33.022\n",
      "Imputing row 5901/10000 with 0 missing, elapsed time: 33.024\n",
      "Imputing row 6001/10000 with 1 missing, elapsed time: 33.028\n",
      "Imputing row 6101/10000 with 0 missing, elapsed time: 33.032\n",
      "Imputing row 6201/10000 with 0 missing, elapsed time: 33.035\n",
      "Imputing row 6301/10000 with 1 missing, elapsed time: 33.036\n",
      "Imputing row 6401/10000 with 0 missing, elapsed time: 33.043\n",
      "Imputing row 6501/10000 with 0 missing, elapsed time: 33.049\n",
      "Imputing row 6601/10000 with 0 missing, elapsed time: 33.052\n",
      "Imputing row 6701/10000 with 0 missing, elapsed time: 33.056\n",
      "Imputing row 6801/10000 with 0 missing, elapsed time: 33.061\n",
      "Imputing row 6901/10000 with 0 missing, elapsed time: 33.064\n",
      "Imputing row 7001/10000 with 0 missing, elapsed time: 33.067\n",
      "Imputing row 7101/10000 with 0 missing, elapsed time: 33.071\n",
      "Imputing row 7201/10000 with 0 missing, elapsed time: 33.074\n",
      "Imputing row 7301/10000 with 0 missing, elapsed time: 33.078\n",
      "Imputing row 7401/10000 with 0 missing, elapsed time: 33.082\n",
      "Imputing row 7501/10000 with 1 missing, elapsed time: 33.085\n",
      "Imputing row 7601/10000 with 0 missing, elapsed time: 33.090\n",
      "Imputing row 7701/10000 with 0 missing, elapsed time: 33.092\n",
      "Imputing row 7801/10000 with 0 missing, elapsed time: 33.096\n",
      "Imputing row 7901/10000 with 0 missing, elapsed time: 33.100\n",
      "Imputing row 8001/10000 with 0 missing, elapsed time: 33.104\n",
      "Imputing row 8101/10000 with 0 missing, elapsed time: 33.107\n",
      "Imputing row 8201/10000 with 1 missing, elapsed time: 33.109\n",
      "Imputing row 8301/10000 with 0 missing, elapsed time: 33.112\n",
      "Imputing row 8401/10000 with 0 missing, elapsed time: 33.121\n",
      "Imputing row 8501/10000 with 0 missing, elapsed time: 33.124\n",
      "Imputing row 8601/10000 with 0 missing, elapsed time: 33.125\n",
      "Imputing row 8701/10000 with 0 missing, elapsed time: 33.128\n",
      "Imputing row 8801/10000 with 0 missing, elapsed time: 33.131\n",
      "Imputing row 8901/10000 with 0 missing, elapsed time: 33.134\n",
      "Imputing row 9001/10000 with 0 missing, elapsed time: 33.136\n",
      "Imputing row 9101/10000 with 0 missing, elapsed time: 33.138\n",
      "Imputing row 9201/10000 with 0 missing, elapsed time: 33.140\n",
      "Imputing row 9301/10000 with 0 missing, elapsed time: 33.141\n",
      "Imputing row 9401/10000 with 0 missing, elapsed time: 33.143\n",
      "Imputing row 9501/10000 with 0 missing, elapsed time: 33.146\n",
      "Imputing row 9601/10000 with 0 missing, elapsed time: 33.149\n",
      "Imputing row 9701/10000 with 0 missing, elapsed time: 33.151\n",
      "Imputing row 9801/10000 with 0 missing, elapsed time: 33.154\n",
      "Imputing row 9901/10000 with 0 missing, elapsed time: 33.157\n",
      "Imputing row 1/5652 with 0 missing, elapsed time: 5.961\n",
      "Imputing row 101/5652 with 0 missing, elapsed time: 5.962\n",
      "Imputing row 201/5652 with 0 missing, elapsed time: 5.964\n",
      "Imputing row 301/5652 with 0 missing, elapsed time: 5.965\n",
      "Imputing row 401/5652 with 0 missing, elapsed time: 5.967\n",
      "Imputing row 501/5652 with 0 missing, elapsed time: 5.968\n",
      "Imputing row 601/5652 with 0 missing, elapsed time: 5.969\n",
      "Imputing row 701/5652 with 0 missing, elapsed time: 5.970\n",
      "Imputing row 801/5652 with 0 missing, elapsed time: 5.971\n",
      "Imputing row 901/5652 with 0 missing, elapsed time: 5.972\n",
      "Imputing row 1001/5652 with 0 missing, elapsed time: 5.973\n",
      "Imputing row 1101/5652 with 0 missing, elapsed time: 5.975\n",
      "Imputing row 1201/5652 with 0 missing, elapsed time: 5.976\n",
      "Imputing row 1301/5652 with 0 missing, elapsed time: 5.977\n",
      "Imputing row 1401/5652 with 0 missing, elapsed time: 5.979\n",
      "Imputing row 1501/5652 with 0 missing, elapsed time: 5.980\n",
      "Imputing row 1601/5652 with 0 missing, elapsed time: 5.981\n",
      "Imputing row 1701/5652 with 0 missing, elapsed time: 5.983\n",
      "Imputing row 1801/5652 with 0 missing, elapsed time: 5.984\n",
      "Imputing row 1901/5652 with 0 missing, elapsed time: 5.985\n",
      "Imputing row 2001/5652 with 0 missing, elapsed time: 5.986\n",
      "Imputing row 2101/5652 with 0 missing, elapsed time: 5.988\n",
      "Imputing row 2201/5652 with 0 missing, elapsed time: 5.989\n",
      "Imputing row 2301/5652 with 0 missing, elapsed time: 5.990\n",
      "Imputing row 2401/5652 with 0 missing, elapsed time: 5.991\n",
      "Imputing row 2501/5652 with 0 missing, elapsed time: 5.992\n",
      "Imputing row 2601/5652 with 0 missing, elapsed time: 5.993\n",
      "Imputing row 2701/5652 with 0 missing, elapsed time: 5.995\n",
      "Imputing row 2801/5652 with 0 missing, elapsed time: 5.996\n",
      "Imputing row 2901/5652 with 0 missing, elapsed time: 6.028\n",
      "Imputing row 3001/5652 with 0 missing, elapsed time: 6.030\n",
      "Imputing row 3101/5652 with 1 missing, elapsed time: 6.033\n",
      "Imputing row 3201/5652 with 0 missing, elapsed time: 6.035\n",
      "Imputing row 3301/5652 with 0 missing, elapsed time: 6.039\n",
      "Imputing row 3401/5652 with 0 missing, elapsed time: 6.041\n",
      "Imputing row 3501/5652 with 0 missing, elapsed time: 6.043\n",
      "Imputing row 3601/5652 with 0 missing, elapsed time: 6.045\n",
      "Imputing row 3701/5652 with 0 missing, elapsed time: 6.046\n",
      "Imputing row 3801/5652 with 0 missing, elapsed time: 6.047\n",
      "Imputing row 3901/5652 with 0 missing, elapsed time: 6.049\n",
      "Imputing row 4001/5652 with 0 missing, elapsed time: 6.050\n",
      "Imputing row 4101/5652 with 0 missing, elapsed time: 6.052\n",
      "Imputing row 4201/5652 with 0 missing, elapsed time: 6.054\n",
      "Imputing row 4301/5652 with 0 missing, elapsed time: 6.055\n",
      "Imputing row 4401/5652 with 0 missing, elapsed time: 6.056\n",
      "Imputing row 4501/5652 with 0 missing, elapsed time: 6.057\n",
      "Imputing row 4601/5652 with 0 missing, elapsed time: 6.059\n",
      "Imputing row 4701/5652 with 0 missing, elapsed time: 6.060\n",
      "Imputing row 4801/5652 with 0 missing, elapsed time: 6.062\n",
      "Imputing row 4901/5652 with 0 missing, elapsed time: 6.063\n",
      "Imputing row 5001/5652 with 0 missing, elapsed time: 6.065\n",
      "Imputing row 5101/5652 with 1 missing, elapsed time: 6.066\n",
      "Imputing row 5201/5652 with 0 missing, elapsed time: 6.067\n",
      "Imputing row 5301/5652 with 0 missing, elapsed time: 6.068\n",
      "Imputing row 5401/5652 with 1 missing, elapsed time: 6.070\n",
      "Imputing row 5501/5652 with 0 missing, elapsed time: 6.072\n",
      "Imputing row 5601/5652 with 1 missing, elapsed time: 6.073\n"
     ]
    }
   ],
   "source": [
    "# KNN imputation\n",
    "imp3=pd.DataFrame(KNN(k=3).fit_transform(cab_train.iloc[0:10000,:]),columns = cab_train.columns)\n",
    "imp4=pd.DataFrame(KNN(k=3).fit_transform(cab_train.iloc[10000:15652,:]),columns = cab_train.columns)\n",
    "# cab_train=pd.DataFrame(KNN(k=3).fit_transform(cab_train),columns = cab_train.columns)"
   ]
  },
  {
   "cell_type": "code",
   "execution_count": 56,
   "metadata": {},
   "outputs": [],
   "source": [
    "cab_train = imp3.append(imp4)"
   ]
  },
  {
   "cell_type": "code",
   "execution_count": 57,
   "metadata": {},
   "outputs": [],
   "source": [
    "cab_train = cab_train.reset_index(drop=True)"
   ]
  },
  {
   "cell_type": "code",
   "execution_count": 58,
   "metadata": {},
   "outputs": [
    {
     "data": {
      "text/plain": [
       "fare_amount          0\n",
       "pickup_longitude     0\n",
       "pickup_latitude      0\n",
       "dropoff_longitude    0\n",
       "dropoff_latitude     0\n",
       "passenger_count      0\n",
       "dtype: int64"
      ]
     },
     "execution_count": 58,
     "metadata": {},
     "output_type": "execute_result"
    }
   ],
   "source": [
    "cab_train.isnull().sum()"
   ]
  },
  {
   "cell_type": "code",
   "execution_count": 59,
   "metadata": {},
   "outputs": [],
   "source": [
    "df2=cab_train.copy()\n",
    "# cab_train=df2.copy()"
   ]
  },
  {
   "cell_type": "markdown",
   "metadata": {},
   "source": [
    "Feature engineering"
   ]
  },
  {
   "cell_type": "code",
   "execution_count": 60,
   "metadata": {},
   "outputs": [],
   "source": [
    "cab_train['passenger_count']=cab_train['passenger_count'].astype('int').round().astype('object').astype('category')"
   ]
  },
  {
   "cell_type": "code",
   "execution_count": 61,
   "metadata": {},
   "outputs": [
    {
     "data": {
      "text/html": [
       "<div>\n",
       "<style scoped>\n",
       "    .dataframe tbody tr th:only-of-type {\n",
       "        vertical-align: middle;\n",
       "    }\n",
       "\n",
       "    .dataframe tbody tr th {\n",
       "        vertical-align: top;\n",
       "    }\n",
       "\n",
       "    .dataframe thead th {\n",
       "        text-align: right;\n",
       "    }\n",
       "</style>\n",
       "<table border=\"1\" class=\"dataframe\">\n",
       "  <thead>\n",
       "    <tr style=\"text-align: right;\">\n",
       "      <th></th>\n",
       "      <th>pickup_datetime</th>\n",
       "      <th>fare_amount</th>\n",
       "      <th>pickup_longitude</th>\n",
       "      <th>pickup_latitude</th>\n",
       "      <th>dropoff_longitude</th>\n",
       "      <th>dropoff_latitude</th>\n",
       "      <th>passenger_count</th>\n",
       "    </tr>\n",
       "  </thead>\n",
       "  <tbody>\n",
       "    <tr>\n",
       "      <th>0</th>\n",
       "      <td>2009-06-15 17:26:21+00:00</td>\n",
       "      <td>4.5</td>\n",
       "      <td>-73.844311</td>\n",
       "      <td>40.721319</td>\n",
       "      <td>-73.841610</td>\n",
       "      <td>40.712278</td>\n",
       "      <td>1</td>\n",
       "    </tr>\n",
       "    <tr>\n",
       "      <th>1</th>\n",
       "      <td>2010-01-05 16:52:16+00:00</td>\n",
       "      <td>16.9</td>\n",
       "      <td>-74.016048</td>\n",
       "      <td>40.711303</td>\n",
       "      <td>-73.979268</td>\n",
       "      <td>40.782004</td>\n",
       "      <td>1</td>\n",
       "    </tr>\n",
       "    <tr>\n",
       "      <th>2</th>\n",
       "      <td>2011-08-18 00:35:00+00:00</td>\n",
       "      <td>5.7</td>\n",
       "      <td>-73.982738</td>\n",
       "      <td>40.761270</td>\n",
       "      <td>-73.991242</td>\n",
       "      <td>40.750562</td>\n",
       "      <td>2</td>\n",
       "    </tr>\n",
       "    <tr>\n",
       "      <th>3</th>\n",
       "      <td>2012-04-21 04:30:42+00:00</td>\n",
       "      <td>7.7</td>\n",
       "      <td>-73.987130</td>\n",
       "      <td>40.733143</td>\n",
       "      <td>-73.991567</td>\n",
       "      <td>40.758092</td>\n",
       "      <td>1</td>\n",
       "    </tr>\n",
       "    <tr>\n",
       "      <th>4</th>\n",
       "      <td>2010-03-09 07:51:00+00:00</td>\n",
       "      <td>5.3</td>\n",
       "      <td>-73.968095</td>\n",
       "      <td>40.768008</td>\n",
       "      <td>-73.956655</td>\n",
       "      <td>40.783762</td>\n",
       "      <td>1</td>\n",
       "    </tr>\n",
       "  </tbody>\n",
       "</table>\n",
       "</div>"
      ],
      "text/plain": [
       "            pickup_datetime  fare_amount  pickup_longitude  pickup_latitude  \\\n",
       "0 2009-06-15 17:26:21+00:00          4.5        -73.844311        40.721319   \n",
       "1 2010-01-05 16:52:16+00:00         16.9        -74.016048        40.711303   \n",
       "2 2011-08-18 00:35:00+00:00          5.7        -73.982738        40.761270   \n",
       "3 2012-04-21 04:30:42+00:00          7.7        -73.987130        40.733143   \n",
       "4 2010-03-09 07:51:00+00:00          5.3        -73.968095        40.768008   \n",
       "\n",
       "   dropoff_longitude  dropoff_latitude passenger_count  \n",
       "0         -73.841610         40.712278               1  \n",
       "1         -73.979268         40.782004               1  \n",
       "2         -73.991242         40.750562               2  \n",
       "3         -73.991567         40.758092               1  \n",
       "4         -73.956655         40.783762               1  "
      ]
     },
     "execution_count": 61,
     "metadata": {},
     "output_type": "execute_result"
    }
   ],
   "source": [
    "# we will join 2 Dataframes pickup_datetime and cab_train\n",
    "cab_train = pd.merge(pickup_datetime,cab_train,right_index=True,left_index=True)\n",
    "cab_train.head()"
   ]
  },
  {
   "cell_type": "code",
   "execution_count": 62,
   "metadata": {},
   "outputs": [
    {
     "data": {
      "text/plain": [
       "(15652, 7)"
      ]
     },
     "execution_count": 62,
     "metadata": {},
     "output_type": "execute_result"
    }
   ],
   "source": [
    "cab_train.shape"
   ]
  },
  {
   "cell_type": "code",
   "execution_count": 63,
   "metadata": {},
   "outputs": [],
   "source": [
    "cab_train = cab_train.reset_index(drop=True)"
   ]
  },
  {
   "cell_type": "code",
   "execution_count": 64,
   "metadata": {},
   "outputs": [
    {
     "data": {
      "text/plain": [
       "pickup_datetime      1\n",
       "fare_amount          0\n",
       "pickup_longitude     0\n",
       "pickup_latitude      0\n",
       "dropoff_longitude    0\n",
       "dropoff_latitude     0\n",
       "passenger_count      0\n",
       "dtype: int64"
      ]
     },
     "execution_count": 64,
     "metadata": {},
     "output_type": "execute_result"
    }
   ],
   "source": [
    "cab_train.isnull().sum()"
   ]
  },
  {
   "cell_type": "code",
   "execution_count": 65,
   "metadata": {},
   "outputs": [],
   "source": [
    "# We will drop 1 NA of pickup datetime\n",
    "cab_train=cab_train.dropna()"
   ]
  },
  {
   "cell_type": "code",
   "execution_count": 66,
   "metadata": {},
   "outputs": [],
   "source": [
    "# 1. Feature engineering for 'pickup_datetime' variable\n",
    "data_1 = [cab_train,cab_test]\n",
    "for i in data_1:\n",
    "    i[\"pickup_year\"] = i[\"pickup_datetime\"].apply(lambda row: row.year)\n",
    "    i[\"pickup_month\"] = i[\"pickup_datetime\"].apply(lambda row: row.month)\n",
    "    i[\"pickup_day_of_week\"] = i[\"pickup_datetime\"].apply(lambda row: row.dayofweek)\n",
    "    i[\"pickup_hour\"] = i[\"pickup_datetime\"].apply(lambda row: row.hour)"
   ]
  },
  {
   "cell_type": "code",
   "execution_count": 67,
   "metadata": {},
   "outputs": [
    {
     "data": {
      "text/plain": [
       "Index(['pickup_datetime', 'fare_amount', 'pickup_longitude', 'pickup_latitude',\n",
       "       'dropoff_longitude', 'dropoff_latitude', 'passenger_count',\n",
       "       'pickup_year', 'pickup_month', 'pickup_day_of_week', 'pickup_hour'],\n",
       "      dtype='object')"
      ]
     },
     "execution_count": 67,
     "metadata": {},
     "output_type": "execute_result"
    }
   ],
   "source": [
    "cab_train.columns"
   ]
  },
  {
   "cell_type": "code",
   "execution_count": 68,
   "metadata": {},
   "outputs": [
    {
     "data": {
      "text/plain": [
       "Index(['pickup_datetime', 'pickup_longitude', 'pickup_latitude',\n",
       "       'dropoff_longitude', 'dropoff_latitude', 'passenger_count',\n",
       "       'pickup_year', 'pickup_month', 'pickup_day_of_week', 'pickup_hour'],\n",
       "      dtype='object')"
      ]
     },
     "execution_count": 68,
     "metadata": {},
     "output_type": "execute_result"
    }
   ],
   "source": [
    "cab_test.columns"
   ]
  },
  {
   "cell_type": "code",
   "execution_count": 69,
   "metadata": {},
   "outputs": [],
   "source": [
    "# 2.Calutlate the distance using longitude and latitude\n",
    "\n",
    "from math import sin, cos, sqrt, atan2, radians,asin \n",
    "\n",
    "#Calculate the great circle distance between two points on the earth (specifie d in decimal degrees) \n",
    "def haversine_np(lon1, lat1, lon2, lat2):        \n",
    "    # Convert latitude and longitude to radians    \n",
    "    lon1, lat1, lon2, lat2 = map(np.radians, [lon1, lat1, lon2, lat2]) \n",
    "   # Find the differences    \n",
    "    dlon = lon2 - lon1    \n",
    "    dlat = lat2 - lat1 \n",
    "   # Apply the formula     \n",
    "    a = np.sin(dlat/2)**2 + np.cos(lat1) * np.cos(lat2) * np.sin(dlon/2)**2        \n",
    "    # Calculate the angle (in radians)    \n",
    "    c = 2 * np.arcsin(np.sqrt(a))        \n",
    "    # Convert to kilometers    \n",
    "    km = 6367 * c        \n",
    "    return km \n",
    "cab_train['distance'] =  haversine_np(cab_train['pickup_longitude'],cab_train['pickup_latitude'],cab_train['dropoff_longitude'], cab_train['dropoff_latitude'])  \n",
    "cab_test['distance'] =  haversine_np(cab_test['pickup_longitude'],cab_test['pickup_latitude'],cab_test['dropoff_longitude'], cab_test['dropoff_latitude'])"
   ]
  },
  {
   "cell_type": "code",
   "execution_count": 70,
   "metadata": {},
   "outputs": [],
   "source": [
    "sum(cab_train['distance']>130)\n",
    "cab_train = cab_train.drop(cab_train[cab_train['distance']>130].index, axis=0)"
   ]
  },
  {
   "cell_type": "code",
   "execution_count": 71,
   "metadata": {},
   "outputs": [],
   "source": [
    "cab_train = cab_train.drop(cab_train[cab_train['distance']>130].index, axis=0)"
   ]
  },
  {
   "cell_type": "code",
   "execution_count": 72,
   "metadata": {},
   "outputs": [
    {
     "data": {
      "text/html": [
       "<div>\n",
       "<style scoped>\n",
       "    .dataframe tbody tr th:only-of-type {\n",
       "        vertical-align: middle;\n",
       "    }\n",
       "\n",
       "    .dataframe tbody tr th {\n",
       "        vertical-align: top;\n",
       "    }\n",
       "\n",
       "    .dataframe thead th {\n",
       "        text-align: right;\n",
       "    }\n",
       "</style>\n",
       "<table border=\"1\" class=\"dataframe\">\n",
       "  <thead>\n",
       "    <tr style=\"text-align: right;\">\n",
       "      <th></th>\n",
       "      <th>pickup_datetime</th>\n",
       "      <th>fare_amount</th>\n",
       "      <th>pickup_longitude</th>\n",
       "      <th>pickup_latitude</th>\n",
       "      <th>dropoff_longitude</th>\n",
       "      <th>dropoff_latitude</th>\n",
       "      <th>passenger_count</th>\n",
       "      <th>pickup_year</th>\n",
       "      <th>pickup_month</th>\n",
       "      <th>pickup_day_of_week</th>\n",
       "      <th>pickup_hour</th>\n",
       "      <th>distance</th>\n",
       "    </tr>\n",
       "  </thead>\n",
       "  <tbody>\n",
       "    <tr>\n",
       "      <th>0</th>\n",
       "      <td>2009-06-15 17:26:21+00:00</td>\n",
       "      <td>4.5</td>\n",
       "      <td>-73.844311</td>\n",
       "      <td>40.721319</td>\n",
       "      <td>-73.841610</td>\n",
       "      <td>40.712278</td>\n",
       "      <td>1</td>\n",
       "      <td>2009</td>\n",
       "      <td>6</td>\n",
       "      <td>0</td>\n",
       "      <td>17</td>\n",
       "      <td>1.030117</td>\n",
       "    </tr>\n",
       "    <tr>\n",
       "      <th>1</th>\n",
       "      <td>2010-01-05 16:52:16+00:00</td>\n",
       "      <td>16.9</td>\n",
       "      <td>-74.016048</td>\n",
       "      <td>40.711303</td>\n",
       "      <td>-73.979268</td>\n",
       "      <td>40.782004</td>\n",
       "      <td>1</td>\n",
       "      <td>2010</td>\n",
       "      <td>1</td>\n",
       "      <td>1</td>\n",
       "      <td>16</td>\n",
       "      <td>8.444828</td>\n",
       "    </tr>\n",
       "    <tr>\n",
       "      <th>2</th>\n",
       "      <td>2011-08-18 00:35:00+00:00</td>\n",
       "      <td>5.7</td>\n",
       "      <td>-73.982738</td>\n",
       "      <td>40.761270</td>\n",
       "      <td>-73.991242</td>\n",
       "      <td>40.750562</td>\n",
       "      <td>2</td>\n",
       "      <td>2011</td>\n",
       "      <td>8</td>\n",
       "      <td>3</td>\n",
       "      <td>0</td>\n",
       "      <td>1.388653</td>\n",
       "    </tr>\n",
       "    <tr>\n",
       "      <th>3</th>\n",
       "      <td>2012-04-21 04:30:42+00:00</td>\n",
       "      <td>7.7</td>\n",
       "      <td>-73.987130</td>\n",
       "      <td>40.733143</td>\n",
       "      <td>-73.991567</td>\n",
       "      <td>40.758092</td>\n",
       "      <td>1</td>\n",
       "      <td>2012</td>\n",
       "      <td>4</td>\n",
       "      <td>5</td>\n",
       "      <td>4</td>\n",
       "      <td>2.797513</td>\n",
       "    </tr>\n",
       "    <tr>\n",
       "      <th>4</th>\n",
       "      <td>2010-03-09 07:51:00+00:00</td>\n",
       "      <td>5.3</td>\n",
       "      <td>-73.968095</td>\n",
       "      <td>40.768008</td>\n",
       "      <td>-73.956655</td>\n",
       "      <td>40.783762</td>\n",
       "      <td>1</td>\n",
       "      <td>2010</td>\n",
       "      <td>3</td>\n",
       "      <td>1</td>\n",
       "      <td>7</td>\n",
       "      <td>1.997902</td>\n",
       "    </tr>\n",
       "  </tbody>\n",
       "</table>\n",
       "</div>"
      ],
      "text/plain": [
       "            pickup_datetime  fare_amount  pickup_longitude  pickup_latitude  \\\n",
       "0 2009-06-15 17:26:21+00:00          4.5        -73.844311        40.721319   \n",
       "1 2010-01-05 16:52:16+00:00         16.9        -74.016048        40.711303   \n",
       "2 2011-08-18 00:35:00+00:00          5.7        -73.982738        40.761270   \n",
       "3 2012-04-21 04:30:42+00:00          7.7        -73.987130        40.733143   \n",
       "4 2010-03-09 07:51:00+00:00          5.3        -73.968095        40.768008   \n",
       "\n",
       "   dropoff_longitude  dropoff_latitude passenger_count  pickup_year  \\\n",
       "0         -73.841610         40.712278               1         2009   \n",
       "1         -73.979268         40.782004               1         2010   \n",
       "2         -73.991242         40.750562               2         2011   \n",
       "3         -73.991567         40.758092               1         2012   \n",
       "4         -73.956655         40.783762               1         2010   \n",
       "\n",
       "   pickup_month  pickup_day_of_week  pickup_hour  distance  \n",
       "0             6                   0           17  1.030117  \n",
       "1             1                   1           16  8.444828  \n",
       "2             8                   3            0  1.388653  \n",
       "3             4                   5            4  2.797513  \n",
       "4             3                   1            7  1.997902  "
      ]
     },
     "execution_count": 72,
     "metadata": {},
     "output_type": "execute_result"
    }
   ],
   "source": [
    "cab_train.head(5)"
   ]
  },
  {
   "cell_type": "code",
   "execution_count": 73,
   "metadata": {},
   "outputs": [
    {
     "data": {
      "text/html": [
       "<div>\n",
       "<style scoped>\n",
       "    .dataframe tbody tr th:only-of-type {\n",
       "        vertical-align: middle;\n",
       "    }\n",
       "\n",
       "    .dataframe tbody tr th {\n",
       "        vertical-align: top;\n",
       "    }\n",
       "\n",
       "    .dataframe thead th {\n",
       "        text-align: right;\n",
       "    }\n",
       "</style>\n",
       "<table border=\"1\" class=\"dataframe\">\n",
       "  <thead>\n",
       "    <tr style=\"text-align: right;\">\n",
       "      <th></th>\n",
       "      <th>pickup_datetime</th>\n",
       "      <th>pickup_longitude</th>\n",
       "      <th>pickup_latitude</th>\n",
       "      <th>dropoff_longitude</th>\n",
       "      <th>dropoff_latitude</th>\n",
       "      <th>passenger_count</th>\n",
       "      <th>pickup_year</th>\n",
       "      <th>pickup_month</th>\n",
       "      <th>pickup_day_of_week</th>\n",
       "      <th>pickup_hour</th>\n",
       "      <th>distance</th>\n",
       "    </tr>\n",
       "  </thead>\n",
       "  <tbody>\n",
       "    <tr>\n",
       "      <th>0</th>\n",
       "      <td>2015-01-27 13:08:24+00:00</td>\n",
       "      <td>-73.973320</td>\n",
       "      <td>40.763805</td>\n",
       "      <td>-73.981430</td>\n",
       "      <td>40.743835</td>\n",
       "      <td>1</td>\n",
       "      <td>2015</td>\n",
       "      <td>1</td>\n",
       "      <td>1</td>\n",
       "      <td>13</td>\n",
       "      <td>2.321801</td>\n",
       "    </tr>\n",
       "    <tr>\n",
       "      <th>1</th>\n",
       "      <td>2015-01-27 13:08:24+00:00</td>\n",
       "      <td>-73.986862</td>\n",
       "      <td>40.719383</td>\n",
       "      <td>-73.998886</td>\n",
       "      <td>40.739201</td>\n",
       "      <td>1</td>\n",
       "      <td>2015</td>\n",
       "      <td>1</td>\n",
       "      <td>1</td>\n",
       "      <td>13</td>\n",
       "      <td>2.423830</td>\n",
       "    </tr>\n",
       "    <tr>\n",
       "      <th>2</th>\n",
       "      <td>2011-10-08 11:53:44+00:00</td>\n",
       "      <td>-73.982524</td>\n",
       "      <td>40.751260</td>\n",
       "      <td>-73.979654</td>\n",
       "      <td>40.746139</td>\n",
       "      <td>1</td>\n",
       "      <td>2011</td>\n",
       "      <td>10</td>\n",
       "      <td>5</td>\n",
       "      <td>11</td>\n",
       "      <td>0.618239</td>\n",
       "    </tr>\n",
       "    <tr>\n",
       "      <th>3</th>\n",
       "      <td>2012-12-01 21:12:12+00:00</td>\n",
       "      <td>-73.981160</td>\n",
       "      <td>40.767807</td>\n",
       "      <td>-73.990448</td>\n",
       "      <td>40.751635</td>\n",
       "      <td>1</td>\n",
       "      <td>2012</td>\n",
       "      <td>12</td>\n",
       "      <td>5</td>\n",
       "      <td>21</td>\n",
       "      <td>1.959801</td>\n",
       "    </tr>\n",
       "    <tr>\n",
       "      <th>4</th>\n",
       "      <td>2012-12-01 21:12:12+00:00</td>\n",
       "      <td>-73.966046</td>\n",
       "      <td>40.789775</td>\n",
       "      <td>-73.988565</td>\n",
       "      <td>40.744427</td>\n",
       "      <td>1</td>\n",
       "      <td>2012</td>\n",
       "      <td>12</td>\n",
       "      <td>5</td>\n",
       "      <td>21</td>\n",
       "      <td>5.383919</td>\n",
       "    </tr>\n",
       "  </tbody>\n",
       "</table>\n",
       "</div>"
      ],
      "text/plain": [
       "            pickup_datetime  pickup_longitude  pickup_latitude  \\\n",
       "0 2015-01-27 13:08:24+00:00        -73.973320        40.763805   \n",
       "1 2015-01-27 13:08:24+00:00        -73.986862        40.719383   \n",
       "2 2011-10-08 11:53:44+00:00        -73.982524        40.751260   \n",
       "3 2012-12-01 21:12:12+00:00        -73.981160        40.767807   \n",
       "4 2012-12-01 21:12:12+00:00        -73.966046        40.789775   \n",
       "\n",
       "   dropoff_longitude  dropoff_latitude  passenger_count  pickup_year  \\\n",
       "0         -73.981430         40.743835                1         2015   \n",
       "1         -73.998886         40.739201                1         2015   \n",
       "2         -73.979654         40.746139                1         2011   \n",
       "3         -73.990448         40.751635                1         2012   \n",
       "4         -73.988565         40.744427                1         2012   \n",
       "\n",
       "   pickup_month  pickup_day_of_week  pickup_hour  distance  \n",
       "0             1                   1           13  2.321801  \n",
       "1             1                   1           13  2.423830  \n",
       "2            10                   5           11  0.618239  \n",
       "3            12                   5           21  1.959801  \n",
       "4            12                   5           21  5.383919  "
      ]
     },
     "execution_count": 73,
     "metadata": {},
     "output_type": "execute_result"
    }
   ],
   "source": [
    "cab_test.head(5)"
   ]
  },
  {
   "cell_type": "code",
   "execution_count": 74,
   "metadata": {},
   "outputs": [],
   "source": [
    "# dropping variables used for feature engineering\n",
    "cab_train=cab_train.drop(['pickup_datetime','pickup_longitude', 'pickup_latitude','dropoff_longitude', 'dropoff_latitude'],axis=1)\n",
    "cab_test=cab_test.drop(['pickup_datetime','pickup_longitude', 'pickup_latitude','dropoff_longitude', 'dropoff_latitude'],axis=1)"
   ]
  },
  {
   "cell_type": "code",
   "execution_count": 75,
   "metadata": {},
   "outputs": [
    {
     "data": {
      "text/plain": [
       "((15649, 7), (9914, 6))"
      ]
     },
     "execution_count": 75,
     "metadata": {},
     "output_type": "execute_result"
    }
   ],
   "source": [
    "cab_train.shape,cab_test.shape"
   ]
  },
  {
   "cell_type": "code",
   "execution_count": 76,
   "metadata": {},
   "outputs": [
    {
     "data": {
      "text/plain": [
       "<seaborn.axisgrid.FacetGrid at 0x2668098d6c8>"
      ]
     },
     "execution_count": 76,
     "metadata": {},
     "output_type": "execute_result"
    },
    {
     "data": {
      "image/png": "[encoded data removed]",
      "text/plain": [
       "<Figure size 576x288 with 1 Axes>"
      ]
     },
     "metadata": {},
     "output_type": "display_data"
    },
    {
     "data": {
      "image/png": "[encoded data removed]",
      "text/plain": [
       "<Figure size 576x288 with 1 Axes>"
      ]
     },
     "metadata": {},
     "output_type": "display_data"
    },
    {
     "data": {
      "image/png": "[encoded data removed]",
      "text/plain": [
       "<Figure size 576x288 with 1 Axes>"
      ]
     },
     "metadata": {},
     "output_type": "display_data"
    },
    {
     "data": {
      "image/png": "[encoded data removed]",
      "text/plain": [
       "<Figure size 576x288 with 1 Axes>"
      ]
     },
     "metadata": {},
     "output_type": "display_data"
    },
    {
     "data": {
      "image/png": "[encoded data removed]",
      "text/plain": [
       "<Figure size 576x288 with 1 Axes>"
      ]
     },
     "metadata": {},
     "output_type": "display_data"
    }
   ],
   "source": [
    "#Visualization\n",
    "sns.set_style(\"whitegrid\")\n",
    "sns.catplot(data=cab_train, x='passenger_count', kind= 'count',height=4,aspect=2)\n",
    "sns.catplot(data=cab_train, x='pickup_day_of_week', kind= 'count',height=4,aspect=2)\n",
    "sns.catplot(data=cab_train, x='pickup_month', kind= 'count',height=4,aspect=2)\n",
    "sns.catplot(data=cab_train, x='pickup_year', kind= 'count',height=4,aspect=2)\n",
    "sns.catplot(data=cab_train, x='pickup_hour', kind= 'count',height=4,aspect=2)"
   ]
  },
  {
   "cell_type": "markdown",
   "metadata": {},
   "source": [
    "Feature Selection"
   ]
  },
  {
   "cell_type": "code",
   "execution_count": 77,
   "metadata": {},
   "outputs": [],
   "source": [
    "# Categorizing data based on continuous and categorical variables\n",
    "\n",
    "continuous_names =['fare_amount','distance']\n",
    "categorical_names =['passenger_count','pickup_year', 'pickup_month', 'pickup_day_of_week', 'pickup_hour']"
   ]
  },
  {
   "cell_type": "code",
   "execution_count": 78,
   "metadata": {},
   "outputs": [],
   "source": [
    "# Correlation analysis\n",
    "df_corr = cab_train.loc[:,continuous_names]"
   ]
  },
  {
   "cell_type": "code",
   "execution_count": 79,
   "metadata": {},
   "outputs": [
    {
     "data": {
      "image/png": "[encoded data removed]",
      "text/plain": [
       "<Figure size 720x720 with 2 Axes>"
      ]
     },
     "metadata": {},
     "output_type": "display_data"
    }
   ],
   "source": [
    "#Set the width and height of the plot\n",
    "f, ax = plt.subplots(figsize=(10, 10))\n",
    "\n",
    "#Generate the correlation matrix\n",
    "corr = df_corr.corr()\n",
    "\n",
    "#Plot using seaborn library(bottom, top = ax1.get_ylim(),ax1.set_ylim(bottom + 0.5, top - 0.5)) is added to remove heat map cut-off\n",
    "ax1 = sns.heatmap(corr, mask=np.zeros_like(corr, dtype=np.bool), cmap=sns.diverging_palette(220, 10, as_cmap=True),\n",
    "            square=True, ax=ax, annot =True)\n",
    "bottom, top = ax1.get_ylim()\n",
    "ax1.set_ylim(bottom + 0.5, top - 0.5)\n",
    "plt.title(\" Heat map\")\n",
    "plt.savefig('plot9.png', dpi=300, bbox_inches='tight')"
   ]
  },
  {
   "cell_type": "markdown",
   "metadata": {},
   "source": [
    " We can see from above correlation plot fare_amount and distance are correlated to each other."
   ]
  },
  {
   "cell_type": "code",
   "execution_count": 80,
   "metadata": {},
   "outputs": [
    {
     "data": {
      "text/html": [
       "<div>\n",
       "<style scoped>\n",
       "    .dataframe tbody tr th:only-of-type {\n",
       "        vertical-align: middle;\n",
       "    }\n",
       "\n",
       "    .dataframe tbody tr th {\n",
       "        vertical-align: top;\n",
       "    }\n",
       "\n",
       "    .dataframe thead th {\n",
       "        text-align: right;\n",
       "    }\n",
       "</style>\n",
       "<table border=\"1\" class=\"dataframe\">\n",
       "  <thead>\n",
       "    <tr style=\"text-align: right;\">\n",
       "      <th></th>\n",
       "      <th>VIF</th>\n",
       "      <th>features</th>\n",
       "    </tr>\n",
       "  </thead>\n",
       "  <tbody>\n",
       "    <tr>\n",
       "      <th>0</th>\n",
       "      <td>1.188500e+06</td>\n",
       "      <td>Intercept</td>\n",
       "    </tr>\n",
       "    <tr>\n",
       "      <th>1</th>\n",
       "      <td>1.036317e+00</td>\n",
       "      <td>passenger_count[T.2]</td>\n",
       "    </tr>\n",
       "    <tr>\n",
       "      <th>2</th>\n",
       "      <td>1.017981e+00</td>\n",
       "      <td>passenger_count[T.3]</td>\n",
       "    </tr>\n",
       "    <tr>\n",
       "      <th>3</th>\n",
       "      <td>1.010033e+00</td>\n",
       "      <td>passenger_count[T.4]</td>\n",
       "    </tr>\n",
       "    <tr>\n",
       "      <th>4</th>\n",
       "      <td>1.024651e+00</td>\n",
       "      <td>passenger_count[T.5]</td>\n",
       "    </tr>\n",
       "    <tr>\n",
       "      <th>5</th>\n",
       "      <td>1.016178e+00</td>\n",
       "      <td>passenger_count[T.6]</td>\n",
       "    </tr>\n",
       "    <tr>\n",
       "      <th>6</th>\n",
       "      <td>1.001886e+00</td>\n",
       "      <td>distance</td>\n",
       "    </tr>\n",
       "    <tr>\n",
       "      <th>7</th>\n",
       "      <td>1.025795e+00</td>\n",
       "      <td>pickup_year</td>\n",
       "    </tr>\n",
       "    <tr>\n",
       "      <th>8</th>\n",
       "      <td>1.014608e+00</td>\n",
       "      <td>pickup_month</td>\n",
       "    </tr>\n",
       "    <tr>\n",
       "      <th>9</th>\n",
       "      <td>1.014377e+00</td>\n",
       "      <td>pickup_day_of_week</td>\n",
       "    </tr>\n",
       "    <tr>\n",
       "      <th>10</th>\n",
       "      <td>1.010481e+00</td>\n",
       "      <td>pickup_hour</td>\n",
       "    </tr>\n",
       "  </tbody>\n",
       "</table>\n",
       "</div>"
      ],
      "text/plain": [
       "             VIF              features\n",
       "0   1.188500e+06             Intercept\n",
       "1   1.036317e+00  passenger_count[T.2]\n",
       "2   1.017981e+00  passenger_count[T.3]\n",
       "3   1.010033e+00  passenger_count[T.4]\n",
       "4   1.024651e+00  passenger_count[T.5]\n",
       "5   1.016178e+00  passenger_count[T.6]\n",
       "6   1.001886e+00              distance\n",
       "7   1.025795e+00           pickup_year\n",
       "8   1.014608e+00          pickup_month\n",
       "9   1.014377e+00    pickup_day_of_week\n",
       "10  1.010481e+00           pickup_hour"
      ]
     },
     "execution_count": 80,
     "metadata": {},
     "output_type": "execute_result"
    }
   ],
   "source": [
    "#Multicollinearity Test\n",
    "outcome, predictors = dmatrices('fare_amount ~ distance+passenger_count+pickup_year+pickup_month+pickup_day_of_week+pickup_hour',cab_train, return_type='dataframe')\n",
    "# calculating VIF for each individual Predictors\n",
    "vif = pd.DataFrame()\n",
    "vif[\"VIF\"] = [variance_inflation_factor(predictors.values, i) for i in range(predictors.shape[1])]\n",
    "vif[\"features\"] = predictors.columns\n",
    "vif"
   ]
  },
  {
   "cell_type": "markdown",
   "metadata": {},
   "source": [
    "So we have no or very low multicollinearity"
   ]
  },
  {
   "cell_type": "markdown",
   "metadata": {},
   "source": [
    "Feature Scaling"
   ]
  },
  {
   "cell_type": "code",
   "execution_count": 81,
   "metadata": {},
   "outputs": [
    {
     "data": {
      "text/plain": [
       "<matplotlib.axes._subplots.AxesSubplot at 0x266809b2d88>"
      ]
     },
     "execution_count": 81,
     "metadata": {},
     "output_type": "execute_result"
    },
    {
     "data": {
      "image/png": "[encoded data removed]",
      "text/plain": [
       "<Figure size 432x288 with 1 Axes>"
      ]
     },
     "metadata": {},
     "output_type": "display_data"
    }
   ],
   "source": [
    "\n",
    "sns.distplot(cab_train['distance'],bins=50)"
   ]
  },
  {
   "cell_type": "code",
   "execution_count": 82,
   "metadata": {},
   "outputs": [
    {
     "name": "stdout",
     "output_type": "stream",
     "text": [
      "fare_amount\n",
      "distance\n"
     ]
    }
   ],
   "source": [
    " # As our variables are left sckew here we select Normalisation method  \n",
    "for i in continuous_names:    \n",
    "    print(i)    \n",
    "    if i == 'fare_amount':        \n",
    "        continue    \n",
    "    cab_train[i] = (cab_train[i] - cab_train[i].min())/(cab_train[i].max() - cab_train[i].min()) "
   ]
  },
  {
   "cell_type": "code",
   "execution_count": 83,
   "metadata": {},
   "outputs": [],
   "source": [
    "#Create dummy variables of factor variables\n",
    "dm1 = pd.get_dummies(data = cab_train, columns = categorical_names)\n",
    "dm2 = pd.get_dummies(data = cab_test, columns = categorical_names)"
   ]
  },
  {
   "cell_type": "code",
   "execution_count": 84,
   "metadata": {},
   "outputs": [],
   "source": [
    "dm3 = dm1.copy()\n",
    "# dm1=dm3.copy()"
   ]
  },
  {
   "cell_type": "code",
   "execution_count": 85,
   "metadata": {},
   "outputs": [],
   "source": [
    "dm4=dm2.copy()\n",
    "# dm2=dm4.copy()"
   ]
  },
  {
   "cell_type": "code",
   "execution_count": 86,
   "metadata": {},
   "outputs": [
    {
     "data": {
      "text/plain": [
       "((15649, 58), (9914, 57))"
      ]
     },
     "execution_count": 86,
     "metadata": {},
     "output_type": "execute_result"
    }
   ],
   "source": [
    "dm1.shape,dm2.shape"
   ]
  },
  {
   "cell_type": "code",
   "execution_count": 87,
   "metadata": {},
   "outputs": [
    {
     "data": {
      "text/plain": [
       "Index(['fare_amount', 'distance', 'passenger_count_1', 'passenger_count_2',\n",
       "       'passenger_count_3', 'passenger_count_4', 'passenger_count_5',\n",
       "       'passenger_count_6', 'pickup_year_2009', 'pickup_year_2010',\n",
       "       'pickup_year_2011', 'pickup_year_2012', 'pickup_year_2013',\n",
       "       'pickup_year_2014', 'pickup_year_2015', 'pickup_month_1',\n",
       "       'pickup_month_2', 'pickup_month_3', 'pickup_month_4', 'pickup_month_5',\n",
       "       'pickup_month_6', 'pickup_month_7', 'pickup_month_8', 'pickup_month_9',\n",
       "       'pickup_month_10', 'pickup_month_11', 'pickup_month_12',\n",
       "       'pickup_day_of_week_0', 'pickup_day_of_week_1', 'pickup_day_of_week_2',\n",
       "       'pickup_day_of_week_3', 'pickup_day_of_week_4', 'pickup_day_of_week_5',\n",
       "       'pickup_day_of_week_6', 'pickup_hour_0', 'pickup_hour_1',\n",
       "       'pickup_hour_2', 'pickup_hour_3', 'pickup_hour_4', 'pickup_hour_5',\n",
       "       'pickup_hour_6', 'pickup_hour_7', 'pickup_hour_8', 'pickup_hour_9',\n",
       "       'pickup_hour_10', 'pickup_hour_11', 'pickup_hour_12', 'pickup_hour_13',\n",
       "       'pickup_hour_14', 'pickup_hour_15', 'pickup_hour_16', 'pickup_hour_17',\n",
       "       'pickup_hour_18', 'pickup_hour_19', 'pickup_hour_20', 'pickup_hour_21',\n",
       "       'pickup_hour_22', 'pickup_hour_23'],\n",
       "      dtype='object')"
      ]
     },
     "execution_count": 87,
     "metadata": {},
     "output_type": "execute_result"
    }
   ],
   "source": [
    "dm1.columns"
   ]
  },
  {
   "cell_type": "code",
   "execution_count": 88,
   "metadata": {},
   "outputs": [
    {
     "data": {
      "text/plain": [
       "Index(['distance', 'passenger_count_1', 'passenger_count_2',\n",
       "       'passenger_count_3', 'passenger_count_4', 'passenger_count_5',\n",
       "       'passenger_count_6', 'pickup_year_2009', 'pickup_year_2010',\n",
       "       'pickup_year_2011', 'pickup_year_2012', 'pickup_year_2013',\n",
       "       'pickup_year_2014', 'pickup_year_2015', 'pickup_month_1',\n",
       "       'pickup_month_2', 'pickup_month_3', 'pickup_month_4', 'pickup_month_5',\n",
       "       'pickup_month_6', 'pickup_month_7', 'pickup_month_8', 'pickup_month_9',\n",
       "       'pickup_month_10', 'pickup_month_11', 'pickup_month_12',\n",
       "       'pickup_day_of_week_0', 'pickup_day_of_week_1', 'pickup_day_of_week_2',\n",
       "       'pickup_day_of_week_3', 'pickup_day_of_week_4', 'pickup_day_of_week_5',\n",
       "       'pickup_day_of_week_6', 'pickup_hour_0', 'pickup_hour_1',\n",
       "       'pickup_hour_2', 'pickup_hour_3', 'pickup_hour_4', 'pickup_hour_5',\n",
       "       'pickup_hour_6', 'pickup_hour_7', 'pickup_hour_8', 'pickup_hour_9',\n",
       "       'pickup_hour_10', 'pickup_hour_11', 'pickup_hour_12', 'pickup_hour_13',\n",
       "       'pickup_hour_14', 'pickup_hour_15', 'pickup_hour_16', 'pickup_hour_17',\n",
       "       'pickup_hour_18', 'pickup_hour_19', 'pickup_hour_20', 'pickup_hour_21',\n",
       "       'pickup_hour_22', 'pickup_hour_23'],\n",
       "      dtype='object')"
      ]
     },
     "execution_count": 88,
     "metadata": {},
     "output_type": "execute_result"
    }
   ],
   "source": [
    "dm2.columns"
   ]
  },
  {
   "cell_type": "code",
   "execution_count": 89,
   "metadata": {},
   "outputs": [],
   "source": [
    "df3=cab_train.copy()\n",
    "# cab_train=df3.copy()"
   ]
  },
  {
   "cell_type": "code",
   "execution_count": 90,
   "metadata": {},
   "outputs": [
    {
     "name": "stdout",
     "output_type": "stream",
     "text": [
      "(15649, 58) (12519, 57) (3130, 57) (12519,) (3130,)\n"
     ]
    }
   ],
   "source": [
    "# Divide the data into test and train (simple random sampling)\n",
    "X = dm1.drop('fare_amount',axis=1).values\n",
    "y = dm1['fare_amount'].values\n",
    "X_train, X_test, y_train, y_test = train_test_split(X,y, test_size=0.2, random_state = 1)\n",
    "print(dm1.shape, X_train.shape, X_test.shape,y_train.shape,y_test.shape)"
   ]
  },
  {
   "cell_type": "markdown",
   "metadata": {},
   "source": [
    "Model development"
   ]
  },
  {
   "cell_type": "code",
   "execution_count": 91,
   "metadata": {},
   "outputs": [],
   "source": [
    "# Linear regression model\n",
    "\n",
    "#Import libraries for LR \n",
    "# import statsmodels.api as sm \n",
    "# from sklearn.metrics import mean_squared_error \n",
    "# from sklearn.metrics import r2_score "
   ]
  },
  {
   "cell_type": "code",
   "execution_count": 92,
   "metadata": {},
   "outputs": [],
   "source": [
    "# Train the model using the training sets \n",
    "model = sm.OLS(y_train, X_train).fit() "
   ]
  },
  {
   "cell_type": "code",
   "execution_count": 93,
   "metadata": {},
   "outputs": [],
   "source": [
    "# predictions for train model \n",
    "predictions_LR = model.predict(X_train) "
   ]
  },
  {
   "cell_type": "code",
   "execution_count": 94,
   "metadata": {},
   "outputs": [],
   "source": [
    "# predictions with test sample \n",
    "predictions_LR = model.predict(X_test) "
   ]
  },
  {
   "cell_type": "code",
   "execution_count": 95,
   "metadata": {},
   "outputs": [],
   "source": [
    "#Define function to calculate RMSE\n",
    "def RMSE(y_true,y_pred):\n",
    "    rmse = np.sqrt(mean_squared_error(y_true,y_pred))\n",
    "    return rmse"
   ]
  },
  {
   "cell_type": "code",
   "execution_count": 96,
   "metadata": {},
   "outputs": [
    {
     "name": "stdout",
     "output_type": "stream",
     "text": [
      "RMSE: 3.9543800581630935\n",
      "R^2: 0.22577649071824646\n"
     ]
    }
   ],
   "source": [
    "#Calculate RMSE and R-squared value\n",
    "print(\"RMSE: \"+str(RMSE(y_test,predictions_LR)))\n",
    "print(\"R^2: \"+str(r2_score(y_test,predictions_LR)))"
   ]
  },
  {
   "cell_type": "code",
   "execution_count": 97,
   "metadata": {},
   "outputs": [
    {
     "data": {
      "text/html": [
       "<table class=\"simpletable\">\n",
       "<caption>OLS Regression Results</caption>\n",
       "<tr>\n",
       "  <th>Dep. Variable:</th>            <td>y</td>        <th>  R-squared:         </th> <td>   0.253</td> \n",
       "</tr>\n",
       "<tr>\n",
       "  <th>Model:</th>                   <td>OLS</td>       <th>  Adj. R-squared:    </th> <td>   0.250</td> \n",
       "</tr>\n",
       "<tr>\n",
       "  <th>Method:</th>             <td>Least Squares</td>  <th>  F-statistic:       </th> <td>   81.11</td> \n",
       "</tr>\n",
       "<tr>\n",
       "  <th>Date:</th>             <td>Sat, 26 Dec 2020</td> <th>  Prob (F-statistic):</th>  <td>  0.00</td>  \n",
       "</tr>\n",
       "<tr>\n",
       "  <th>Time:</th>                 <td>18:24:30</td>     <th>  Log-Likelihood:    </th> <td> -34633.</td> \n",
       "</tr>\n",
       "<tr>\n",
       "  <th>No. Observations:</th>      <td> 12519</td>      <th>  AIC:               </th> <td>6.937e+04</td>\n",
       "</tr>\n",
       "<tr>\n",
       "  <th>Df Residuals:</th>          <td> 12466</td>      <th>  BIC:               </th> <td>6.977e+04</td>\n",
       "</tr>\n",
       "<tr>\n",
       "  <th>Df Model:</th>              <td>    52</td>      <th>                     </th>     <td> </td>    \n",
       "</tr>\n",
       "<tr>\n",
       "  <th>Covariance Type:</th>      <td>nonrobust</td>    <th>                     </th>     <td> </td>    \n",
       "</tr>\n",
       "</table>\n",
       "<table class=\"simpletable\">\n",
       "<tr>\n",
       "   <td></td>      <th>coef</th>     <th>std err</th>      <th>t</th>      <th>P>|t|</th>  <th>[0.025</th>    <th>0.975]</th>  \n",
       "</tr>\n",
       "<tr>\n",
       "  <th>x1</th>  <td>   60.4480</td> <td>    1.005</td> <td>   60.120</td> <td> 0.000</td> <td>   58.477</td> <td>   62.419</td>\n",
       "</tr>\n",
       "<tr>\n",
       "  <th>x2</th>  <td>    2.2533</td> <td>    0.063</td> <td>   36.012</td> <td> 0.000</td> <td>    2.131</td> <td>    2.376</td>\n",
       "</tr>\n",
       "<tr>\n",
       "  <th>x3</th>  <td>    2.1776</td> <td>    0.094</td> <td>   23.224</td> <td> 0.000</td> <td>    1.994</td> <td>    2.361</td>\n",
       "</tr>\n",
       "<tr>\n",
       "  <th>x4</th>  <td>    2.2039</td> <td>    0.155</td> <td>   14.237</td> <td> 0.000</td> <td>    1.900</td> <td>    2.507</td>\n",
       "</tr>\n",
       "<tr>\n",
       "  <th>x5</th>  <td>    2.5523</td> <td>    0.214</td> <td>   11.902</td> <td> 0.000</td> <td>    2.132</td> <td>    2.973</td>\n",
       "</tr>\n",
       "<tr>\n",
       "  <th>x6</th>  <td>    2.1583</td> <td>    0.129</td> <td>   16.765</td> <td> 0.000</td> <td>    1.906</td> <td>    2.411</td>\n",
       "</tr>\n",
       "<tr>\n",
       "  <th>x7</th>  <td>    2.5672</td> <td>    0.226</td> <td>   11.343</td> <td> 0.000</td> <td>    2.124</td> <td>    3.011</td>\n",
       "</tr>\n",
       "<tr>\n",
       "  <th>x8</th>  <td>    1.1865</td> <td>    0.085</td> <td>   13.947</td> <td> 0.000</td> <td>    1.020</td> <td>    1.353</td>\n",
       "</tr>\n",
       "<tr>\n",
       "  <th>x9</th>  <td>    1.2535</td> <td>    0.085</td> <td>   14.822</td> <td> 0.000</td> <td>    1.088</td> <td>    1.419</td>\n",
       "</tr>\n",
       "<tr>\n",
       "  <th>x10</th> <td>    1.3510</td> <td>    0.084</td> <td>   16.059</td> <td> 0.000</td> <td>    1.186</td> <td>    1.516</td>\n",
       "</tr>\n",
       "<tr>\n",
       "  <th>x11</th> <td>    1.8256</td> <td>    0.082</td> <td>   22.142</td> <td> 0.000</td> <td>    1.664</td> <td>    1.987</td>\n",
       "</tr>\n",
       "<tr>\n",
       "  <th>x12</th> <td>    2.5498</td> <td>    0.084</td> <td>   30.485</td> <td> 0.000</td> <td>    2.386</td> <td>    2.714</td>\n",
       "</tr>\n",
       "<tr>\n",
       "  <th>x13</th> <td>    2.6530</td> <td>    0.086</td> <td>   30.810</td> <td> 0.000</td> <td>    2.484</td> <td>    2.822</td>\n",
       "</tr>\n",
       "<tr>\n",
       "  <th>x14</th> <td>    3.0932</td> <td>    0.123</td> <td>   25.109</td> <td> 0.000</td> <td>    2.852</td> <td>    3.335</td>\n",
       "</tr>\n",
       "<tr>\n",
       "  <th>x15</th> <td>    0.6126</td> <td>    0.111</td> <td>    5.494</td> <td> 0.000</td> <td>    0.394</td> <td>    0.831</td>\n",
       "</tr>\n",
       "<tr>\n",
       "  <th>x16</th> <td>    0.9174</td> <td>    0.115</td> <td>    7.944</td> <td> 0.000</td> <td>    0.691</td> <td>    1.144</td>\n",
       "</tr>\n",
       "<tr>\n",
       "  <th>x17</th> <td>    1.0375</td> <td>    0.109</td> <td>    9.522</td> <td> 0.000</td> <td>    0.824</td> <td>    1.251</td>\n",
       "</tr>\n",
       "<tr>\n",
       "  <th>x18</th> <td>    1.0380</td> <td>    0.111</td> <td>    9.344</td> <td> 0.000</td> <td>    0.820</td> <td>    1.256</td>\n",
       "</tr>\n",
       "<tr>\n",
       "  <th>x19</th> <td>    1.3734</td> <td>    0.110</td> <td>   12.440</td> <td> 0.000</td> <td>    1.157</td> <td>    1.590</td>\n",
       "</tr>\n",
       "<tr>\n",
       "  <th>x20</th> <td>    1.1297</td> <td>    0.109</td> <td>   10.342</td> <td> 0.000</td> <td>    0.916</td> <td>    1.344</td>\n",
       "</tr>\n",
       "<tr>\n",
       "  <th>x21</th> <td>    1.1740</td> <td>    0.122</td> <td>    9.661</td> <td> 0.000</td> <td>    0.936</td> <td>    1.412</td>\n",
       "</tr>\n",
       "<tr>\n",
       "  <th>x22</th> <td>    0.9862</td> <td>    0.124</td> <td>    7.970</td> <td> 0.000</td> <td>    0.744</td> <td>    1.229</td>\n",
       "</tr>\n",
       "<tr>\n",
       "  <th>x23</th> <td>    1.4593</td> <td>    0.121</td> <td>   12.070</td> <td> 0.000</td> <td>    1.222</td> <td>    1.696</td>\n",
       "</tr>\n",
       "<tr>\n",
       "  <th>x24</th> <td>    1.5103</td> <td>    0.118</td> <td>   12.790</td> <td> 0.000</td> <td>    1.279</td> <td>    1.742</td>\n",
       "</tr>\n",
       "<tr>\n",
       "  <th>x25</th> <td>    1.2932</td> <td>    0.120</td> <td>   10.747</td> <td> 0.000</td> <td>    1.057</td> <td>    1.529</td>\n",
       "</tr>\n",
       "<tr>\n",
       "  <th>x26</th> <td>    1.3810</td> <td>    0.118</td> <td>   11.658</td> <td> 0.000</td> <td>    1.149</td> <td>    1.613</td>\n",
       "</tr>\n",
       "<tr>\n",
       "  <th>x27</th> <td>    1.8907</td> <td>    0.090</td> <td>   20.899</td> <td> 0.000</td> <td>    1.713</td> <td>    2.068</td>\n",
       "</tr>\n",
       "<tr>\n",
       "  <th>x28</th> <td>    2.0565</td> <td>    0.088</td> <td>   23.489</td> <td> 0.000</td> <td>    1.885</td> <td>    2.228</td>\n",
       "</tr>\n",
       "<tr>\n",
       "  <th>x29</th> <td>    2.0338</td> <td>    0.087</td> <td>   23.378</td> <td> 0.000</td> <td>    1.863</td> <td>    2.204</td>\n",
       "</tr>\n",
       "<tr>\n",
       "  <th>x30</th> <td>    1.9008</td> <td>    0.087</td> <td>   21.808</td> <td> 0.000</td> <td>    1.730</td> <td>    2.072</td>\n",
       "</tr>\n",
       "<tr>\n",
       "  <th>x31</th> <td>    2.1394</td> <td>    0.085</td> <td>   25.087</td> <td> 0.000</td> <td>    1.972</td> <td>    2.307</td>\n",
       "</tr>\n",
       "<tr>\n",
       "  <th>x32</th> <td>    2.0034</td> <td>    0.084</td> <td>   23.906</td> <td> 0.000</td> <td>    1.839</td> <td>    2.168</td>\n",
       "</tr>\n",
       "<tr>\n",
       "  <th>x33</th> <td>    1.8880</td> <td>    0.090</td> <td>   20.995</td> <td> 0.000</td> <td>    1.712</td> <td>    2.064</td>\n",
       "</tr>\n",
       "<tr>\n",
       "  <th>x34</th> <td>    1.0558</td> <td>    0.176</td> <td>    5.988</td> <td> 0.000</td> <td>    0.710</td> <td>    1.401</td>\n",
       "</tr>\n",
       "<tr>\n",
       "  <th>x35</th> <td>    1.2242</td> <td>    0.198</td> <td>    6.186</td> <td> 0.000</td> <td>    0.836</td> <td>    1.612</td>\n",
       "</tr>\n",
       "<tr>\n",
       "  <th>x36</th> <td>    1.2864</td> <td>    0.230</td> <td>    5.590</td> <td> 0.000</td> <td>    0.835</td> <td>    1.737</td>\n",
       "</tr>\n",
       "<tr>\n",
       "  <th>x37</th> <td>    1.5500</td> <td>    0.257</td> <td>    6.042</td> <td> 0.000</td> <td>    1.047</td> <td>    2.053</td>\n",
       "</tr>\n",
       "<tr>\n",
       "  <th>x38</th> <td>    1.6969</td> <td>    0.303</td> <td>    5.600</td> <td> 0.000</td> <td>    1.103</td> <td>    2.291</td>\n",
       "</tr>\n",
       "<tr>\n",
       "  <th>x39</th> <td>   -0.4189</td> <td>    0.345</td> <td>   -1.214</td> <td> 0.225</td> <td>   -1.095</td> <td>    0.257</td>\n",
       "</tr>\n",
       "<tr>\n",
       "  <th>x40</th> <td>   -0.1862</td> <td>    0.229</td> <td>   -0.815</td> <td> 0.415</td> <td>   -0.634</td> <td>    0.262</td>\n",
       "</tr>\n",
       "<tr>\n",
       "  <th>x41</th> <td>   -0.1162</td> <td>    0.171</td> <td>   -0.680</td> <td> 0.496</td> <td>   -0.451</td> <td>    0.219</td>\n",
       "</tr>\n",
       "<tr>\n",
       "  <th>x42</th> <td>    0.3289</td> <td>    0.164</td> <td>    2.001</td> <td> 0.045</td> <td>    0.007</td> <td>    0.651</td>\n",
       "</tr>\n",
       "<tr>\n",
       "  <th>x43</th> <td>    0.6165</td> <td>    0.155</td> <td>    3.970</td> <td> 0.000</td> <td>    0.312</td> <td>    0.921</td>\n",
       "</tr>\n",
       "<tr>\n",
       "  <th>x44</th> <td>    0.2449</td> <td>    0.165</td> <td>    1.481</td> <td> 0.139</td> <td>   -0.079</td> <td>    0.569</td>\n",
       "</tr>\n",
       "<tr>\n",
       "  <th>x45</th> <td>    0.5868</td> <td>    0.158</td> <td>    3.705</td> <td> 0.000</td> <td>    0.276</td> <td>    0.897</td>\n",
       "</tr>\n",
       "<tr>\n",
       "  <th>x46</th> <td>    0.5231</td> <td>    0.153</td> <td>    3.416</td> <td> 0.001</td> <td>    0.223</td> <td>    0.823</td>\n",
       "</tr>\n",
       "<tr>\n",
       "  <th>x47</th> <td>    0.5324</td> <td>    0.154</td> <td>    3.463</td> <td> 0.001</td> <td>    0.231</td> <td>    0.834</td>\n",
       "</tr>\n",
       "<tr>\n",
       "  <th>x48</th> <td>    0.6460</td> <td>    0.153</td> <td>    4.212</td> <td> 0.000</td> <td>    0.345</td> <td>    0.947</td>\n",
       "</tr>\n",
       "<tr>\n",
       "  <th>x49</th> <td>    0.7186</td> <td>    0.157</td> <td>    4.577</td> <td> 0.000</td> <td>    0.411</td> <td>    1.026</td>\n",
       "</tr>\n",
       "<tr>\n",
       "  <th>x50</th> <td>    0.3048</td> <td>    0.165</td> <td>    1.845</td> <td> 0.065</td> <td>   -0.019</td> <td>    0.629</td>\n",
       "</tr>\n",
       "<tr>\n",
       "  <th>x51</th> <td>    0.4135</td> <td>    0.156</td> <td>    2.651</td> <td> 0.008</td> <td>    0.108</td> <td>    0.719</td>\n",
       "</tr>\n",
       "<tr>\n",
       "  <th>x52</th> <td>    0.6174</td> <td>    0.139</td> <td>    4.449</td> <td> 0.000</td> <td>    0.345</td> <td>    0.889</td>\n",
       "</tr>\n",
       "<tr>\n",
       "  <th>x53</th> <td>    0.2513</td> <td>    0.138</td> <td>    1.815</td> <td> 0.070</td> <td>   -0.020</td> <td>    0.523</td>\n",
       "</tr>\n",
       "<tr>\n",
       "  <th>x54</th> <td>    0.6687</td> <td>    0.143</td> <td>    4.689</td> <td> 0.000</td> <td>    0.389</td> <td>    0.948</td>\n",
       "</tr>\n",
       "<tr>\n",
       "  <th>x55</th> <td>    0.2477</td> <td>    0.142</td> <td>    1.738</td> <td> 0.082</td> <td>   -0.032</td> <td>    0.527</td>\n",
       "</tr>\n",
       "<tr>\n",
       "  <th>x56</th> <td>    0.7072</td> <td>    0.143</td> <td>    4.941</td> <td> 0.000</td> <td>    0.427</td> <td>    0.988</td>\n",
       "</tr>\n",
       "<tr>\n",
       "  <th>x57</th> <td>    0.4129</td> <td>    0.154</td> <td>    2.676</td> <td> 0.007</td> <td>    0.110</td> <td>    0.715</td>\n",
       "</tr>\n",
       "</table>\n",
       "<table class=\"simpletable\">\n",
       "<tr>\n",
       "  <th>Omnibus:</th>       <td>4297.764</td> <th>  Durbin-Watson:     </th>  <td>   2.029</td> \n",
       "</tr>\n",
       "<tr>\n",
       "  <th>Prob(Omnibus):</th>  <td> 0.000</td>  <th>  Jarque-Bera (JB):  </th> <td>206367.888</td>\n",
       "</tr>\n",
       "<tr>\n",
       "  <th>Skew:</th>           <td>-0.897</td>  <th>  Prob(JB):          </th>  <td>    0.00</td> \n",
       "</tr>\n",
       "<tr>\n",
       "  <th>Kurtosis:</th>       <td>22.809</td>  <th>  Cond. No.          </th>  <td>1.19e+16</td> \n",
       "</tr>\n",
       "</table><br/><br/>Warnings:<br/>[1] Standard Errors assume that the covariance matrix of the errors is correctly specified.<br/>[2] The smallest eigenvalue is 9.34e-29. This might indicate that there are<br/>strong multicollinearity problems or that the design matrix is singular."
      ],
      "text/plain": [
       "<class 'statsmodels.iolib.summary.Summary'>\n",
       "\"\"\"\n",
       "                            OLS Regression Results                            \n",
       "==============================================================================\n",
       "Dep. Variable:                      y   R-squared:                       0.253\n",
       "Model:                            OLS   Adj. R-squared:                  0.250\n",
       "Method:                 Least Squares   F-statistic:                     81.11\n",
       "Date:                Sat, 26 Dec 2020   Prob (F-statistic):               0.00\n",
       "Time:                        18:24:30   Log-Likelihood:                -34633.\n",
       "No. Observations:               12519   AIC:                         6.937e+04\n",
       "Df Residuals:                   12466   BIC:                         6.977e+04\n",
       "Df Model:                          52                                         \n",
       "Covariance Type:            nonrobust                                         \n",
       "==============================================================================\n",
       "                 coef    std err          t      P>|t|      [0.025      0.975]\n",
       "------------------------------------------------------------------------------\n",
       "x1            60.4480      1.005     60.120      0.000      58.477      62.419\n",
       "x2             2.2533      0.063     36.012      0.000       2.131       2.376\n",
       "x3             2.1776      0.094     23.224      0.000       1.994       2.361\n",
       "x4             2.2039      0.155     14.237      0.000       1.900       2.507\n",
       "x5             2.5523      0.214     11.902      0.000       2.132       2.973\n",
       "x6             2.1583      0.129     16.765      0.000       1.906       2.411\n",
       "x7             2.5672      0.226     11.343      0.000       2.124       3.011\n",
       "x8             1.1865      0.085     13.947      0.000       1.020       1.353\n",
       "x9             1.2535      0.085     14.822      0.000       1.088       1.419\n",
       "x10            1.3510      0.084     16.059      0.000       1.186       1.516\n",
       "x11            1.8256      0.082     22.142      0.000       1.664       1.987\n",
       "x12            2.5498      0.084     30.485      0.000       2.386       2.714\n",
       "x13            2.6530      0.086     30.810      0.000       2.484       2.822\n",
       "x14            3.0932      0.123     25.109      0.000       2.852       3.335\n",
       "x15            0.6126      0.111      5.494      0.000       0.394       0.831\n",
       "x16            0.9174      0.115      7.944      0.000       0.691       1.144\n",
       "x17            1.0375      0.109      9.522      0.000       0.824       1.251\n",
       "x18            1.0380      0.111      9.344      0.000       0.820       1.256\n",
       "x19            1.3734      0.110     12.440      0.000       1.157       1.590\n",
       "x20            1.1297      0.109     10.342      0.000       0.916       1.344\n",
       "x21            1.1740      0.122      9.661      0.000       0.936       1.412\n",
       "x22            0.9862      0.124      7.970      0.000       0.744       1.229\n",
       "x23            1.4593      0.121     12.070      0.000       1.222       1.696\n",
       "x24            1.5103      0.118     12.790      0.000       1.279       1.742\n",
       "x25            1.2932      0.120     10.747      0.000       1.057       1.529\n",
       "x26            1.3810      0.118     11.658      0.000       1.149       1.613\n",
       "x27            1.8907      0.090     20.899      0.000       1.713       2.068\n",
       "x28            2.0565      0.088     23.489      0.000       1.885       2.228\n",
       "x29            2.0338      0.087     23.378      0.000       1.863       2.204\n",
       "x30            1.9008      0.087     21.808      0.000       1.730       2.072\n",
       "x31            2.1394      0.085     25.087      0.000       1.972       2.307\n",
       "x32            2.0034      0.084     23.906      0.000       1.839       2.168\n",
       "x33            1.8880      0.090     20.995      0.000       1.712       2.064\n",
       "x34            1.0558      0.176      5.988      0.000       0.710       1.401\n",
       "x35            1.2242      0.198      6.186      0.000       0.836       1.612\n",
       "x36            1.2864      0.230      5.590      0.000       0.835       1.737\n",
       "x37            1.5500      0.257      6.042      0.000       1.047       2.053\n",
       "x38            1.6969      0.303      5.600      0.000       1.103       2.291\n",
       "x39           -0.4189      0.345     -1.214      0.225      -1.095       0.257\n",
       "x40           -0.1862      0.229     -0.815      0.415      -0.634       0.262\n",
       "x41           -0.1162      0.171     -0.680      0.496      -0.451       0.219\n",
       "x42            0.3289      0.164      2.001      0.045       0.007       0.651\n",
       "x43            0.6165      0.155      3.970      0.000       0.312       0.921\n",
       "x44            0.2449      0.165      1.481      0.139      -0.079       0.569\n",
       "x45            0.5868      0.158      3.705      0.000       0.276       0.897\n",
       "x46            0.5231      0.153      3.416      0.001       0.223       0.823\n",
       "x47            0.5324      0.154      3.463      0.001       0.231       0.834\n",
       "x48            0.6460      0.153      4.212      0.000       0.345       0.947\n",
       "x49            0.7186      0.157      4.577      0.000       0.411       1.026\n",
       "x50            0.3048      0.165      1.845      0.065      -0.019       0.629\n",
       "x51            0.4135      0.156      2.651      0.008       0.108       0.719\n",
       "x52            0.6174      0.139      4.449      0.000       0.345       0.889\n",
       "x53            0.2513      0.138      1.815      0.070      -0.020       0.523\n",
       "x54            0.6687      0.143      4.689      0.000       0.389       0.948\n",
       "x55            0.2477      0.142      1.738      0.082      -0.032       0.527\n",
       "x56            0.7072      0.143      4.941      0.000       0.427       0.988\n",
       "x57            0.4129      0.154      2.676      0.007       0.110       0.715\n",
       "==============================================================================\n",
       "Omnibus:                     4297.764   Durbin-Watson:                   2.029\n",
       "Prob(Omnibus):                  0.000   Jarque-Bera (JB):           206367.888\n",
       "Skew:                          -0.897   Prob(JB):                         0.00\n",
       "Kurtosis:                      22.809   Cond. No.                     1.19e+16\n",
       "==============================================================================\n",
       "\n",
       "Warnings:\n",
       "[1] Standard Errors assume that the covariance matrix of the errors is correctly specified.\n",
       "[2] The smallest eigenvalue is 9.34e-29. This might indicate that there are\n",
       "strong multicollinearity problems or that the design matrix is singular.\n",
       "\"\"\""
      ]
     },
     "execution_count": 97,
     "metadata": {},
     "output_type": "execute_result"
    }
   ],
   "source": [
    "model.summary()"
   ]
  },
  {
   "cell_type": "code",
   "execution_count": 98,
   "metadata": {},
   "outputs": [],
   "source": [
    "#Decision tree\n",
    "\n",
    "# Decision tree regression\n",
    "fit_DT = DecisionTreeRegressor(max_depth=2).fit(X_train,y_train)"
   ]
  },
  {
   "cell_type": "code",
   "execution_count": 99,
   "metadata": {},
   "outputs": [],
   "source": [
    "#Apply model for test data\n",
    "predictions_DT = fit_DT.predict(X_test)"
   ]
  },
  {
   "cell_type": "code",
   "execution_count": 100,
   "metadata": {},
   "outputs": [
    {
     "name": "stdout",
     "output_type": "stream",
     "text": [
      "RMSE: 2.690814781759607\n",
      "R^2: 0.6415099143079993\n"
     ]
    }
   ],
   "source": [
    "#Calculate RMSE and R-squared value\n",
    "print(\"RMSE: \"+str(RMSE(y_test,predictions_DT)))\n",
    "print(\"R^2: \"+str(r2_score(y_test,predictions_DT)))"
   ]
  },
  {
   "cell_type": "code",
   "execution_count": 101,
   "metadata": {},
   "outputs": [],
   "source": [
    "#Random forest\n",
    "\n",
    "rf_model = RandomForestRegressor(n_estimators = 500, random_state = 1).fit(X_train,y_train)"
   ]
  },
  {
   "cell_type": "code",
   "execution_count": 102,
   "metadata": {},
   "outputs": [],
   "source": [
    "#Perdict for test cases\n",
    "predictions_RF = rf_model.predict(X_test)"
   ]
  },
  {
   "cell_type": "code",
   "execution_count": 103,
   "metadata": {},
   "outputs": [
    {
     "name": "stdout",
     "output_type": "stream",
     "text": [
      "RMSE: 2.415041845926718\n",
      "R^2:0.7112254868070074\n"
     ]
    }
   ],
   "source": [
    "#Calculate RMSE and R-squared value\n",
    "print(\"RMSE: \"+str(RMSE(y_test,predictions_RF)))\n",
    "print(\"R^2:\"+str(r2_score(y_test,predictions_RF)))"
   ]
  },
  {
   "cell_type": "code",
   "execution_count": 104,
   "metadata": {},
   "outputs": [],
   "source": [
    "#XGboost\n",
    "# from sklearn.ensemble import GradientBoostingRegressor \n",
    "\n",
    "# Building model on top of training dataset \n",
    "fit_GB = GradientBoostingRegressor().fit(X_train, y_train)"
   ]
  },
  {
   "cell_type": "code",
   "execution_count": 105,
   "metadata": {},
   "outputs": [],
   "source": [
    "predictions_xgb = fit_GB.predict(X_test)"
   ]
  },
  {
   "cell_type": "code",
   "execution_count": 106,
   "metadata": {},
   "outputs": [
    {
     "name": "stdout",
     "output_type": "stream",
     "text": [
      "RMSE: 2.3526729882743065\n",
      "R^2:0.7259481914966992\n"
     ]
    }
   ],
   "source": [
    "#Calculate RMSE and R-squared value\n",
    "print(\"RMSE: \"+str(RMSE(y_test,predictions_xgb)))\n",
    "print(\"R^2:\"+str(r2_score(y_test,predictions_xgb)))"
   ]
  },
  {
   "cell_type": "code",
   "execution_count": 107,
   "metadata": {},
   "outputs": [],
   "source": [
    "# finilizing model( XGboost)\n",
    "test_1 = dm2"
   ]
  },
  {
   "cell_type": "code",
   "execution_count": 108,
   "metadata": {},
   "outputs": [
    {
     "data": {
      "text/plain": [
       "(9914, 57)"
      ]
     },
     "execution_count": 108,
     "metadata": {},
     "output_type": "execute_result"
    }
   ],
   "source": [
    "test_1.shape"
   ]
  },
  {
   "cell_type": "code",
   "execution_count": 109,
   "metadata": {},
   "outputs": [],
   "source": [
    "train = dm3"
   ]
  },
  {
   "cell_type": "code",
   "execution_count": 110,
   "metadata": {},
   "outputs": [
    {
     "data": {
      "text/plain": [
       "(15649, 58)"
      ]
     },
     "execution_count": 110,
     "metadata": {},
     "output_type": "execute_result"
    }
   ],
   "source": [
    "train.shape"
   ]
  },
  {
   "cell_type": "code",
   "execution_count": 111,
   "metadata": {},
   "outputs": [],
   "source": [
    "y_train= dm3['fare_amount'] \n",
    "dm3.drop(['fare_amount'], inplace = True, axis=1) \n",
    "X_train = dm3"
   ]
  },
  {
   "cell_type": "code",
   "execution_count": 112,
   "metadata": {},
   "outputs": [],
   "source": [
    "fit_GB = GradientBoostingRegressor().fit(X_train, y_train) "
   ]
  },
  {
   "cell_type": "code",
   "execution_count": 113,
   "metadata": {},
   "outputs": [],
   "source": [
    "predictions_xgb = fit_GB.predict(test_1)"
   ]
  },
  {
   "cell_type": "code",
   "execution_count": 114,
   "metadata": {},
   "outputs": [],
   "source": [
    "Test_prediction = pd.DataFrame(predictions_xgb)"
   ]
  },
  {
   "cell_type": "code",
   "execution_count": 115,
   "metadata": {},
   "outputs": [
    {
     "data": {
      "text/html": [
       "<div>\n",
       "<style scoped>\n",
       "    .dataframe tbody tr th:only-of-type {\n",
       "        vertical-align: middle;\n",
       "    }\n",
       "\n",
       "    .dataframe tbody tr th {\n",
       "        vertical-align: top;\n",
       "    }\n",
       "\n",
       "    .dataframe thead th {\n",
       "        text-align: right;\n",
       "    }\n",
       "</style>\n",
       "<table border=\"1\" class=\"dataframe\">\n",
       "  <thead>\n",
       "    <tr style=\"text-align: right;\">\n",
       "      <th></th>\n",
       "      <th>0</th>\n",
       "    </tr>\n",
       "  </thead>\n",
       "  <tbody>\n",
       "    <tr>\n",
       "      <th>count</th>\n",
       "      <td>9914.000000</td>\n",
       "    </tr>\n",
       "    <tr>\n",
       "      <th>mean</th>\n",
       "      <td>8.239925</td>\n",
       "    </tr>\n",
       "    <tr>\n",
       "      <th>std</th>\n",
       "      <td>1.101356</td>\n",
       "    </tr>\n",
       "    <tr>\n",
       "      <th>min</th>\n",
       "      <td>4.455046</td>\n",
       "    </tr>\n",
       "    <tr>\n",
       "      <th>25%</th>\n",
       "      <td>7.518096</td>\n",
       "    </tr>\n",
       "    <tr>\n",
       "      <th>50%</th>\n",
       "      <td>7.976435</td>\n",
       "    </tr>\n",
       "    <tr>\n",
       "      <th>75%</th>\n",
       "      <td>8.689823</td>\n",
       "    </tr>\n",
       "    <tr>\n",
       "      <th>max</th>\n",
       "      <td>17.504803</td>\n",
       "    </tr>\n",
       "  </tbody>\n",
       "</table>\n",
       "</div>"
      ],
      "text/plain": [
       "                 0\n",
       "count  9914.000000\n",
       "mean      8.239925\n",
       "std       1.101356\n",
       "min       4.455046\n",
       "25%       7.518096\n",
       "50%       7.976435\n",
       "75%       8.689823\n",
       "max      17.504803"
      ]
     },
     "execution_count": 115,
     "metadata": {},
     "output_type": "execute_result"
    }
   ],
   "source": [
    "Test_prediction.describe()"
   ]
  },
  {
   "cell_type": "code",
   "execution_count": 116,
   "metadata": {},
   "outputs": [],
   "source": [
    "Test_prediction = Test_prediction.rename(columns={0:\"Prediction_fare_amount\"})"
   ]
  },
  {
   "cell_type": "code",
   "execution_count": 117,
   "metadata": {},
   "outputs": [],
   "source": [
    "Test_prediction.to_csv(\"test_predict_py.csv\",index=False)"
   ]
  },
  {
   "cell_type": "code",
   "execution_count": null,
   "metadata": {},
   "outputs": [],
   "source": []
  }
 ],
 "metadata": {
  "kernelspec": {
   "display_name": "Python 3",
   "language": "python",
   "name": "python3"
  },
  "language_info": {
   "codemirror_mode": {
    "name": "ipython",
    "version": 3
   },
   "file_extension": ".py",
   "mimetype": "text/x-python",
   "name": "python",
   "nbconvert_exporter": "python",
   "pygments_lexer": "ipython3",
   "version": "3.7.4"
  }
 },
 "nbformat": 4,
 "nbformat_minor": 2
}
